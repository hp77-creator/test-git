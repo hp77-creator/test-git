{
 "cells": [
  {
   "cell_type": "code",
   "execution_count": 1,
   "id": "635539fc",
   "metadata": {},
   "outputs": [],
   "source": [
    "import cv2\n",
    "import numpy as np"
   ]
  },
  {
   "cell_type": "code",
   "execution_count": 3,
   "id": "5fbf5722",
   "metadata": {},
   "outputs": [],
   "source": [
    "image = cv2.imread('./pictures/pic.png')"
   ]
  },
  {
   "cell_type": "code",
   "execution_count": 6,
   "id": "801dd951",
   "metadata": {},
   "outputs": [],
   "source": [
    "height,width = image.shape[:2]\n",
    "quarter_height,quarter_width = height/4 , width/4\n",
    "T = np.float64([[1,0,quarter_width],[0,1,quarter_height]])\n",
    "img_translation = cv2.warpAffine(image, T, (width,height))\n",
    "\n",
    "cv2.imshow('translation',img_translation)\n",
    "cv2.waitKey()\n",
    "cv2.destroyAllWindows()"
   ]
  },
  {
   "cell_type": "code",
   "execution_count": 7,
   "id": "7fd92265",
   "metadata": {},
   "outputs": [
    {
     "name": "stdout",
     "output_type": "stream",
     "text": [
      "[[  1.     0.   140.75]\n",
      " [  0.     1.   139.75]]\n"
     ]
    }
   ],
   "source": [
    "print(T)"
   ]
  },
  {
   "cell_type": "code",
   "execution_count": 10,
   "id": "ff7d99b0",
   "metadata": {},
   "outputs": [],
   "source": [
    "rotation_matrix = cv2.getRotationMatrix2D((width/2,height/2),90,1)\n",
    "rotated_image = cv2.warpAffine(image,rotation_matrix,(width,height))\n",
    "\n",
    "cv2.imshow('rotated image',rotated_image)\n",
    "cv2.waitKey()\n",
    "cv2.destroyAllWindows()"
   ]
  },
  {
   "cell_type": "code",
   "execution_count": 11,
   "id": "a3508bbd",
   "metadata": {},
   "outputs": [],
   "source": [
    "rotated_image2 = cv2.transpose(image)\n",
    "cv2.imshow('rotated image - method 2',rotated_image2)\n",
    "cv2.waitKey()\n",
    "cv2.destroyAllWindows()"
   ]
  },
  {
   "cell_type": "code",
   "execution_count": null,
   "id": "753821fe",
   "metadata": {},
   "outputs": [],
   "source": []
  }
 ],
 "metadata": {
  "kernelspec": {
   "display_name": "Python 3",
   "language": "python",
   "name": "python3"
  },
  "language_info": {
   "codemirror_mode": {
    "name": "ipython",
    "version": 3
   },
   "file_extension": ".py",
   "mimetype": "text/x-python",
   "name": "python",
   "nbconvert_exporter": "python",
   "pygments_lexer": "ipython3",
   "version": "3.8.8"
  }
 },
 "nbformat": 4,
 "nbformat_minor": 5
}
