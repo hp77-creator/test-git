{
 "cells": [
  {
   "cell_type": "code",
   "execution_count": 1,
   "id": "5885d923",
   "metadata": {},
   "outputs": [],
   "source": [
    "import cv2\n",
    "import numpy as np"
   ]
  },
  {
   "cell_type": "code",
   "execution_count": 2,
   "id": "50105f12",
   "metadata": {},
   "outputs": [],
   "source": [
    "image = cv2.imread('./pictures/pic.png')"
   ]
  },
  {
   "cell_type": "code",
   "execution_count": 3,
   "id": "40ec4b6a",
   "metadata": {},
   "outputs": [],
   "source": [
    "image_scaled = cv2.resize(image,None,fx=0.75,fy=0.75)\n",
    "cv2.imshow('scaling - liner Interpolation',image_scaled)\n",
    "cv2.waitKey()\n",
    "\n",
    "img_scaled = cv2.resize(image,None,fx=2,fy=2,interpolation=cv2.INTER_CUBIC)\n",
    "cv2.imshow('scaling - cubic Interpolation',img_scaled)\n",
    "cv2.waitKey()\n",
    "\n",
    "img_scaled = cv2.resize(image,(900,400),interpolation=cv2.INTER_AREA)\n",
    "cv2.imshow('scaling - skewed size',img_scaled)\n",
    "cv2.waitKey()\n",
    "\n",
    "cv2.destroyAllWindows()"
   ]
  },
  {
   "cell_type": "code",
   "execution_count": 4,
   "id": "21417bb2",
   "metadata": {},
   "outputs": [],
   "source": [
    "smaller = cv2.pyrDown(image)\n",
    "larger = cv2.pyrUp(smaller)\n",
    "\n",
    "cv2.imshow('original',image)\n",
    "cv2.imshow('smaller',smaller)\n",
    "cv2.imshow('larger',larger)\n",
    "\n",
    "cv2.waitKey(0)\n",
    "cv2.destroyAllWindows()"
   ]
  },
  {
   "cell_type": "code",
   "execution_count": 5,
   "id": "832796fb",
   "metadata": {},
   "outputs": [],
   "source": [
    "height,width = image.shape[:2]\n",
    "start_row,start_col = int(height*0.25),int(width*0.25)\n",
    "end_row,end_col = int(height*0.75),int(width*0.75)\n",
    "\n",
    "cropped = image[start_row:end_row,start_col:end_col]\n",
    "\n",
    "cv2.imshow('original image',image)\n",
    "cv2.waitKey(0)\n",
    "cv2.imshow('cropped image',cropped)\n",
    "cv2.waitKey(0)\n",
    "cv2.destroyAllWindows()"
   ]
  }
 ],
 "metadata": {
  "kernelspec": {
   "display_name": "Python 3",
   "language": "python",
   "name": "python3"
  },
  "language_info": {
   "codemirror_mode": {
    "name": "ipython",
    "version": 3
   },
   "file_extension": ".py",
   "mimetype": "text/x-python",
   "name": "python",
   "nbconvert_exporter": "python",
   "pygments_lexer": "ipython3",
   "version": "3.8.8"
  }
 },
 "nbformat": 4,
 "nbformat_minor": 5
}
