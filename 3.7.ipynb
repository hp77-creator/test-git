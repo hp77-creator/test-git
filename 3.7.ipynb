{
 "cells": [
  {
   "cell_type": "code",
   "execution_count": 1,
   "id": "5cd31c11",
   "metadata": {},
   "outputs": [],
   "source": [
    "import cv2\n",
    "import numpy as np"
   ]
  },
  {
   "cell_type": "code",
   "execution_count": 2,
   "id": "b3492366",
   "metadata": {},
   "outputs": [],
   "source": [
    "image = cv2.imread('./pictures/pic.png')"
   ]
  },
  {
   "cell_type": "code",
   "execution_count": 3,
   "id": "533dfbf4",
   "metadata": {},
   "outputs": [],
   "source": [
    "M = np.ones(image.shape,dtype = 'uint8')*75\n",
    "\n",
    "added = cv2.add(image,M)\n",
    "cv2.imshow('added',added)\n",
    "\n",
    "subtracted = cv2.subtract(image,M)\n",
    "cv2.imshow('subtracted',subtracted)\n",
    "\n",
    "cv2.waitKey(0)\n",
    "cv2.destroyAllWindows()"
   ]
  },
  {
   "cell_type": "code",
   "execution_count": 4,
   "id": "49c3ebfe",
   "metadata": {},
   "outputs": [],
   "source": [
    "square = np.zeros((300,300),np.uint8)\n",
    "cv2.rectangle(square,(50,50),(250,250),255,-2)\n",
    "cv2.imshow('square',square)\n",
    "cv2.waitKey(0)\n",
    "\n",
    "ellipse = np.zeros((300,300),np.uint8)\n",
    "cv2.ellipse(ellipse,(150,150),(150,150),30,0,180,255,-1)\n",
    "cv2.imshow('ellipse',ellipse)\n",
    "cv2.waitKey(0)\n",
    "\n",
    "cv2.destroyAllWindows()"
   ]
  },
  {
   "cell_type": "code",
   "execution_count": 5,
   "id": "b741c3e0",
   "metadata": {},
   "outputs": [],
   "source": [
    "And = cv2.bitwise_and(square,ellipse)\n",
    "cv2.imshow('AND',And)\n",
    "cv2.waitKey(0)\n",
    "\n",
    "bitwiseOr = cv2.bitwise_or(square,ellipse)\n",
    "cv2.imshow('OR',bitwiseOr)\n",
    "cv2.waitKey(0)\n",
    "\n",
    "bitwiseXor = cv2.bitwise_xor(square,ellipse)\n",
    "cv2.imshow('XOR',bitwiseXor)\n",
    "cv2.waitKey(0)\n",
    "\n",
    "nitwiseNot_sq = cv2.bitwise_not(square)\n",
    "cv2.imshow('NOT - square',nitwiseNot_sq)\n",
    "cv2.waitKey(0)\n",
    "\n",
    "cv2.destroyAllWindows()"
   ]
  },
  {
   "cell_type": "code",
   "execution_count": null,
   "id": "06be4582",
   "metadata": {},
   "outputs": [],
   "source": []
  }
 ],
 "metadata": {
  "kernelspec": {
   "display_name": "Python 3",
   "language": "python",
   "name": "python3"
  },
  "language_info": {
   "codemirror_mode": {
    "name": "ipython",
    "version": 3
   },
   "file_extension": ".py",
   "mimetype": "text/x-python",
   "name": "python",
   "nbconvert_exporter": "python",
   "pygments_lexer": "ipython3",
   "version": "3.8.8"
  }
 },
 "nbformat": 4,
 "nbformat_minor": 5
}
