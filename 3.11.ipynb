{
 "cells": [
  {
   "cell_type": "code",
   "execution_count": 2,
   "id": "068ca90c",
   "metadata": {},
   "outputs": [],
   "source": [
    "import cv2\n",
    "import numpy as np"
   ]
  },
  {
   "cell_type": "code",
   "execution_count": 3,
   "id": "9843bfc6",
   "metadata": {},
   "outputs": [],
   "source": [
    "image = cv2.imread('./pictures/pic.png')"
   ]
  },
  {
   "cell_type": "code",
   "execution_count": 4,
   "id": "27f77f2f",
   "metadata": {},
   "outputs": [],
   "source": [
    "cv2.imshow('original',image)"
   ]
  },
  {
   "cell_type": "code",
   "execution_count": 5,
   "id": "fe4b1c4e",
   "metadata": {},
   "outputs": [],
   "source": [
    "ret,thresh1 = cv2.threshold(image,127,255,cv2.THRESH_BINARY)\n",
    "cv2.imshow('1 Threshold Binary',thresh1)\n",
    "\n",
    "ret,thresh2 = cv2.threshold(image,127,255,cv2.THRESH_BINARY_INV)\n",
    "cv2.imshow('2 Threshold Binary Inverse',thresh2)\n",
    "\n",
    "ret,thresh3 = cv2.threshold(image,127,255,cv2.THRESH_TRUNC)\n",
    "cv2.imshow('3 Threshold trunc',thresh3)\n",
    "\n",
    "ret,thresh4 = cv2.threshold(image,127,255,cv2.THRESH_TOZERO)\n",
    "cv2.imshow('4 Threshold tozero',thresh3)\n",
    "\n",
    "ret,thresh5 = cv2.threshold(image,127,255,cv2.THRESH_TOZERO_INV)\n",
    "cv2.imshow('5 Threshold tozero inverse',thresh5)\n",
    "\n",
    "cv2.waitKey(0)\n",
    "cv2.destroyAllWindows()"
   ]
  },
  {
   "cell_type": "code",
   "execution_count": 9,
   "id": "55872d18",
   "metadata": {},
   "outputs": [],
   "source": [
    "image = cv2.imread('pictures/pic.png',0)\n",
    "\n",
    "ret,thresh1 = cv2.threshold(image,127,255,cv2.THRESH_BINARY)\n",
    "cv2.imshow('1 Threshold Binary',thresh1)\n",
    "cv2.waitKey(0)\n",
    "\n",
    "image = cv2.GaussianBlur(image,(3,3),0)\n",
    "thresh = cv2.adaptiveThreshold(image,255,cv2.ADAPTIVE_THRESH_MEAN_C,cv2.THRESH_BINARY,3,5)\n",
    "cv2.imshow('Adaptive Mean Thresholding',thresh)\n",
    "cv2.waitKey(0)\n",
    "\n",
    "_,th2 = cv2.threshold(image,0,255,cv2.THRESH_BINARY + cv2.THRESH_OTSU)\n",
    "cv2.imshow(\"Otsu's thresholding\",thresh)\n",
    "cv2.waitKey(0)\n",
    "\n",
    "blur = cv2.GaussianBlur(image,(5,5),0)\n",
    "_, th3 = cv2.threshold(blur,0,255,cv2.THRESH_BINARY + cv2.THRESH_OTSU)\n",
    "cv2.imshow(\"Gaussian otsu's thresholding\",thresh)\n",
    "cv2.waitKey(0)\n",
    "\n",
    "cv2.destroyAllWindows()"
   ]
  },
  {
   "cell_type": "code",
   "execution_count": 13,
   "id": "b12936bd",
   "metadata": {},
   "outputs": [],
   "source": [
    "kernel = np.ones((5,5),np.uint8)\n",
    "\n",
    "erosion = cv2.erode(image, kernel, iterations = 1)\n",
    "cv2.imshow('erosion',erosion)\n",
    "cv2.waitKey(0)\n",
    "\n",
    "dilation = cv2.dilate(image, kernel, iterations = 1)\n",
    "cv2.imshow('dilation',dilation)\n",
    "cv2.waitKey(0)\n",
    "\n",
    "opening = cv2.morphologyEx(image,cv2.MORPH_OPEN,kernel)\n",
    "cv2.imshow('opening',opening)\n",
    "cv2.waitKey(0)\n",
    "\n",
    "closing = cv2.morphologyEx(image,cv2.MORPH_CLOSE,kernel)\n",
    "cv2.imshow('closing',closing)\n",
    "cv2.waitKey(0)\n",
    "\n",
    "cv2.destroyAllWindows()"
   ]
  },
  {
   "cell_type": "code",
   "execution_count": 15,
   "id": "62f616d5",
   "metadata": {},
   "outputs": [],
   "source": [
    "height, width = image.shape\n",
    "\n",
    "sobel_x = cv2.Sobel(image,cv2.CV_64F,0,1,ksize=5)\n",
    "sobel_y = cv2.Sobel(image,cv2.CV_64F,1,0,ksize=5)\n",
    "\n",
    "cv2.imshow('original',image)\n",
    "cv2.waitKey(0)\n",
    "cv2.imshow('sobel X',sobel_x)\n",
    "cv2.waitKey(0)\n",
    "cv2.imshow('sobel Y',sobel_y)\n",
    "cv2.waitKey(0)\n",
    "\n",
    "sobel_OR = cv2.bitwise_or(sobel_x,sobel_y)\n",
    "cv2.imshow('sobel_OR',sobel_OR)\n",
    "cv2.waitKey(0)\n",
    "\n",
    "laplacian = cv2.Laplacian(image,cv2.CV_64F)\n",
    "cv2.imshow('Laplacian',laplacian)\n",
    "cv2.waitKey(0)\n",
    "\n",
    "canny = cv2.Canny(image,20,170)\n",
    "cv2.imshow('Canny',canny)\n",
    "cv2.waitKey(0)\n",
    "\n",
    "cv2.destroyAllWindows()"
   ]
  },
  {
   "cell_type": "code",
   "execution_count": 11,
   "id": "4b458cb2",
   "metadata": {},
   "outputs": [],
   "source": [
    "import matplotlib.pyplot as plt\n",
    "\n",
    "points_A = np.float32([[320,15],[700,215],[85,610],[530,780]])\n",
    "\n",
    "points_B = np.float32([[0,0],[420,0],[0,594],[420,594]])\n",
    "\n",
    "M = cv2.getPerspectiveTransform(points_A,points_B)\n",
    "\n",
    "warped = cv2.warpPerspective(image, M, (420,594))\n",
    "\n",
    "cv2.imshow('warpPerspective',warped)\n",
    "cv2.waitKey(0)\n",
    "cv2.destroyAllWindows()"
   ]
  },
  {
   "cell_type": "code",
   "execution_count": 18,
   "id": "5da973f2",
   "metadata": {},
   "outputs": [],
   "source": [
    "rows,cols= image.shape\n",
    "\n",
    "cv2.imshow('original',image)\n",
    "cv2.waitKey(0)\n",
    "\n",
    "points_A = np.float32([[320,15],[700,215],[85,610]])\n",
    "\n",
    "points_B = np.float32([[0,0],[420,0],[0,594]])\n",
    "\n",
    "M = cv2.getAffineTransform(points_A,points_B)\n",
    "\n",
    "warped = cv2.warpAffine(image, M, (cols,rows))\n",
    "\n",
    "cv2.imshow('warpPerspective',warped)\n",
    "cv2.waitKey(0)\n",
    "cv2.destroyAllWindows()"
   ]
  }
 ],
 "metadata": {
  "kernelspec": {
   "display_name": "Python 3",
   "language": "python",
   "name": "python3"
  },
  "language_info": {
   "codemirror_mode": {
    "name": "ipython",
    "version": 3
   },
   "file_extension": ".py",
   "mimetype": "text/x-python",
   "name": "python",
   "nbconvert_exporter": "python",
   "pygments_lexer": "ipython3",
   "version": "3.8.8"
  }
 },
 "nbformat": 4,
 "nbformat_minor": 5
}
