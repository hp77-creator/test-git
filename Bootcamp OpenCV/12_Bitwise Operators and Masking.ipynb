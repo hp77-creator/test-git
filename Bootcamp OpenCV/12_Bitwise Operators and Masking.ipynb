{
 "cells": [
  {
   "cell_type": "code",
   "execution_count": 30,
   "id": "c90153a1",
   "metadata": {},
   "outputs": [],
   "source": [
    "import cv2\n",
    "import numpy as np\n",
    "\n",
    "# Square\n",
    "square = np.zeros((500, 500), np.uint8)\n",
    "cv2.rectangle(square, (50, 50), (250, 250), 50, -1)\n",
    "cv2.imshow(\"Square\", square)\n",
    "cv2.waitKey()\n",
    "\n",
    "cv2.destroyAllWindows()"
   ]
  },
  {
   "cell_type": "markdown",
   "id": "37e8430e",
   "metadata": {},
   "source": [
    "###### cv2.ellipse(image_variable, center_coordinates (tuple), axesLength(tuple), angle_of_rotation, startAngle, endAngle, color, thickness)"
   ]
  },
  {
   "cell_type": "code",
   "execution_count": 45,
   "id": "b8399e74",
   "metadata": {},
   "outputs": [],
   "source": [
    "# Ellipse\n",
    "ellipse = np.zeros((500, 500), np.uint8)\n",
    "cv2.ellipse(ellipse, (250, 150), (150, 100), 30, 10, 150, 50, -1)\n",
    "cv2.imshow(\"Ellipse\", ellipse)\n",
    "cv2.waitKey()\n",
    "\n",
    "cv2.destroyAllWindows()"
   ]
  },
  {
   "cell_type": "code",
   "execution_count": 46,
   "id": "121cc552",
   "metadata": {},
   "outputs": [],
   "source": [
    "bitwiseAnd = cv2.bitwise_and(square, ellipse)\n",
    "cv2.imshow(\"AND\", bitwiseAnd)\n",
    "cv2.waitKey()\n",
    "\n",
    "bitwiseOr = cv2.bitwise_or(square, ellipse)\n",
    "cv2.imshow(\"OR\", bitwiseOr)\n",
    "cv2.waitKey() \n",
    "\n",
    "bitwiseXor = cv2.bitwise_xor(square, ellipse)\n",
    "cv2.imshow(\"XOR\", bitwiseXor)\n",
    "cv2.waitKey()\n",
    "\n",
    "bitwiseNot_sq = cv2.bitwise_not(square)\n",
    "cv2.imshow(\"NOT - square\", bitwiseNot_sq)\n",
    "cv2.waitKey()\n",
    "bitwiseNot_ep = cv2.bitwise_not(ellipse)\n",
    "cv2.imshow(\"NOT - ellipse\", bitwiseNot_ep)\n",
    "cv2.waitKey()\n",
    "\n",
    "cv2.destroyAllWindows()"
   ]
  }
 ],
 "metadata": {
  "kernelspec": {
   "display_name": "Python 3",
   "language": "python",
   "name": "python3"
  },
  "language_info": {
   "codemirror_mode": {
    "name": "ipython",
    "version": 3
   },
   "file_extension": ".py",
   "mimetype": "text/x-python",
   "name": "python",
   "nbconvert_exporter": "python",
   "pygments_lexer": "ipython3",
   "version": "3.8.8"
  }
 },
 "nbformat": 4,
 "nbformat_minor": 5
}
