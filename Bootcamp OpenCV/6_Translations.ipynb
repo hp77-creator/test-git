{
 "cells": [
  {
   "cell_type": "markdown",
   "id": "ab148806",
   "metadata": {},
   "source": [
    "Using cv2.warpAffine() for Translations"
   ]
  },
  {
   "cell_type": "code",
   "execution_count": 2,
   "id": "927d546a",
   "metadata": {},
   "outputs": [],
   "source": [
    "import cv2\n",
    "import numpy as np"
   ]
  },
  {
   "cell_type": "markdown",
   "id": "1e523d8e",
   "metadata": {},
   "source": [
    "###### cv2.warpAffine(image_variable, Translation Matrix, (width,height of final matrix))"
   ]
  },
  {
   "cell_type": "code",
   "execution_count": 9,
   "id": "6f038429",
   "metadata": {},
   "outputs": [],
   "source": [
    "img=cv2.imread('./Nature.jpeg')\n",
    "\n",
    "height, width=img.shape[:2]\n",
    "\n",
    "# T here is translation Matrix\n",
    "# T = |1 0 Tx|\n",
    "#     |0 1 Ty|\n",
    "# where Tx and Ty are shift along X-axis and Y-axis respectively\n",
    "\n",
    "Tx= 100\n",
    "Ty= 50\n",
    "T= np.float32([[1, 0, Tx],[0, 1, Ty]])\n",
    "translate= cv2.warpAffine(img, T, (300, 600))\n",
    "cv2.imshow('Translation image', translate)\n",
    "cv2.waitKey()\n",
    "cv2.destroyAllWindows()"
   ]
  }
 ],
 "metadata": {
  "kernelspec": {
   "display_name": "Python 3",
   "language": "python",
   "name": "python3"
  },
  "language_info": {
   "codemirror_mode": {
    "name": "ipython",
    "version": 3
   },
   "file_extension": ".py",
   "mimetype": "text/x-python",
   "name": "python",
   "nbconvert_exporter": "python",
   "pygments_lexer": "ipython3",
   "version": "3.8.8"
  }
 },
 "nbformat": 4,
 "nbformat_minor": 5
}
