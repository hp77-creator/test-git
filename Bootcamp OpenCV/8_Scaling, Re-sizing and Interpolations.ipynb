{
 "cells": [
  {
   "cell_type": "markdown",
   "id": "2fd2f1ed",
   "metadata": {},
   "source": [
    "###### cv2.resize(image_variable, dsize(output image size), x scale, y scale, interpolation)\n",
    "\n",
    "interpolation type:  \n",
    "- cv2.INTER_AREA  \n",
    "- cv2.INTER_NEAREST  \n",
    "- cv2.INTER_LINEAR  \n",
    "- cv2.INTER_CUBIC  \n",
    "- cv2.INTER_LANCZOS4  "
   ]
  },
  {
   "cell_type": "code",
   "execution_count": 4,
   "id": "fac8c572",
   "metadata": {},
   "outputs": [],
   "source": [
    "import cv2\n",
    "import numpy as np\n",
    "\n",
    "img=cv2.imread('./Nature.jpeg')"
   ]
  },
  {
   "cell_type": "code",
   "execution_count": 6,
   "id": "8299ca79",
   "metadata": {},
   "outputs": [],
   "source": [
    "cv2.imshow('Raindrops',img)\n",
    "cv2.waitKey()\n",
    "\n",
    "scaled_img= cv2.resize(img, None, fx=0.5, fy=0.65, interpolation = cv2.INTER_LINEAR)\n",
    "cv2.imshow('Linear', scaled_img)\n",
    "cv2.waitKey()\n",
    "scaled_img= cv2.resize(img, None, fx=0.5, fy=0.65, interpolation = cv2.INTER_NEAREST)\n",
    "cv2.imshow('Nearest', scaled_img)\n",
    "cv2.waitKey()\n",
    "scaled_img= cv2.resize(img, None, fx=0.5, fy=0.65, interpolation = cv2.INTER_CUBIC)\n",
    "cv2.imshow('Cubic', scaled_img)\n",
    "cv2.waitKey()\n",
    "scaled_img= cv2.resize(img, None, fx=0.5, fy=0.65, interpolation = cv2.INTER_AREA)\n",
    "cv2.imshow('Area', scaled_img)\n",
    "cv2.waitKey()\n",
    "scaled_img= cv2.resize(img, None, fx=0.5, fy=0.65, interpolation = cv2.INTER_LANCZOS4)\n",
    "cv2.imshow('Lanczos4', scaled_img)\n",
    "cv2.waitKey()\n",
    "cv2.destroyAllWindows()"
   ]
  },
  {
   "cell_type": "code",
   "execution_count": 9,
   "id": "1fb30fda",
   "metadata": {},
   "outputs": [],
   "source": [
    "cv2.imshow('Raindrops',img)\n",
    "cv2.waitKey()\n",
    "\n",
    "scaled_img= cv2.resize(img, None, fx=1.75, fy=1.5, interpolation = cv2.INTER_LINEAR)\n",
    "cv2.imshow('Linear', scaled_img)\n",
    "cv2.waitKey()\n",
    "scaled_img= cv2.resize(img, None, fx=1.025, fy=1.65, interpolation = cv2.INTER_NEAREST)\n",
    "cv2.imshow('Nearest', scaled_img)\n",
    "cv2.waitKey()\n",
    "scaled_img= cv2.resize(img, None, fx=2, fy=1.5, interpolation = cv2.INTER_CUBIC)\n",
    "cv2.imshow('Cubic', scaled_img)\n",
    "cv2.waitKey()\n",
    "# In below case, the fx and fy value does not matters\n",
    "scaled_img= cv2.resize(img, (500,200), fx=2, fy=1.35, interpolation = cv2.INTER_AREA)\n",
    "cv2.imshow('Area', scaled_img)\n",
    "cv2.waitKey()\n",
    "scaled_img= cv2.resize(img, (300,500), interpolation = cv2.INTER_LANCZOS4)\n",
    "cv2.imshow('Lanczos4', scaled_img)\n",
    "cv2.waitKey()\n",
    "cv2.destroyAllWindows()"
   ]
  }
 ],
 "metadata": {
  "kernelspec": {
   "display_name": "Python 3",
   "language": "python",
   "name": "python3"
  },
  "language_info": {
   "codemirror_mode": {
    "name": "ipython",
    "version": 3
   },
   "file_extension": ".py",
   "mimetype": "text/x-python",
   "name": "python",
   "nbconvert_exporter": "python",
   "pygments_lexer": "ipython3",
   "version": "3.8.8"
  }
 },
 "nbformat": 4,
 "nbformat_minor": 5
}
