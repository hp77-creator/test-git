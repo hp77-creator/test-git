{
 "cells": [
  {
   "cell_type": "code",
   "execution_count": 2,
   "id": "927d546a",
   "metadata": {},
   "outputs": [],
   "source": [
    "import cv2\n",
    "import numpy as np"
   ]
  },
  {
   "cell_type": "markdown",
   "id": "23c829c2",
   "metadata": {},
   "source": [
    "###### cv2.getRotationMatrix2D(rotation_center_x, rotation_center_y, angle of rotation, scaling factor)"
   ]
  },
  {
   "cell_type": "code",
   "execution_count": 3,
   "id": "6f038429",
   "metadata": {},
   "outputs": [],
   "source": [
    "img=cv2.imread('./Nature.jpeg')\n",
    "\n",
    "height, width = img.shape[:2]\n",
    "\n",
    "Rotate_Matrix= cv2.getRotationMatrix2D((width/10,height/1.5),30,0.5)\n",
    "rotate_img= cv2.warpAffine(img, Rotate_Matrix, (700, height))\n",
    "cv2.imshow('Rotation of Image', rotate_img)\n",
    "cv2.waitKey()\n",
    "cv2.destroyAllWindows()"
   ]
  },
  {
   "cell_type": "code",
   "execution_count": 4,
   "id": "15b21a7e",
   "metadata": {},
   "outputs": [],
   "source": [
    "#Tranpose\n",
    "rotate_img=cv2.transpose(img)\n",
    "\n",
    "cv2.imshow('Rotation', rotate_img)\n",
    "cv2.waitKey()\n",
    "cv2.destroyAllWindows()"
   ]
  },
  {
   "cell_type": "code",
   "execution_count": 5,
   "id": "804afd7e",
   "metadata": {},
   "outputs": [],
   "source": [
    "#Flip\n",
    "flip=cv2.flip(img,0)\n",
    "cv2.imshow('Vertical Flip', flip)\n",
    "cv2.waitKey()\n",
    "flip=cv2.flip(img,1)\n",
    "cv2.imshow('Horizontal Flip', flip)\n",
    "cv2.waitKey()\n",
    "cv2.destroyAllWindows()"
   ]
  }
 ],
 "metadata": {
  "kernelspec": {
   "display_name": "Python 3",
   "language": "python",
   "name": "python3"
  },
  "language_info": {
   "codemirror_mode": {
    "name": "ipython",
    "version": 3
   },
   "file_extension": ".py",
   "mimetype": "text/x-python",
   "name": "python",
   "nbconvert_exporter": "python",
   "pygments_lexer": "ipython3",
   "version": "3.8.8"
  }
 },
 "nbformat": 4,
 "nbformat_minor": 5
}
