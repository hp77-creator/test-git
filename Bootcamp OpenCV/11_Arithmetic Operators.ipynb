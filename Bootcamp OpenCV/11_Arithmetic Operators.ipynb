{
 "cells": [
  {
   "cell_type": "markdown",
   "id": "b08dd3e7",
   "metadata": {},
   "source": [
    "### Arithmethic operators\n",
    "Allows to increase or decrease color intensity via adding or subtracting matrix"
   ]
  },
  {
   "cell_type": "code",
   "execution_count": 2,
   "id": "f1019ef8",
   "metadata": {},
   "outputs": [],
   "source": [
    "import cv2\n",
    "import numpy as np\n",
    "\n",
    "img= cv2.imread('./Nature.jpeg')\n"
   ]
  },
  {
   "cell_type": "code",
   "execution_count": 15,
   "id": "82d813a4",
   "metadata": {},
   "outputs": [
    {
     "name": "stdout",
     "output_type": "stream",
     "text": [
      "Image RGB component values: \n",
      " [[73 73 73 ... 80 64 98]\n",
      " [73 73 73 ... 69 56 95]\n",
      " [73 73 73 ... 64 52 92]\n",
      " ...\n",
      " [14  9  6 ... 87 22 18]\n",
      " [12  9  9 ... 24 19 38]\n",
      " [16 12 10 ... 41 24 14]]\n",
      "Image RGB component values after modifications (adding): \n",
      " [[255 255 255 ... 255 255 255]\n",
      " [255 255 255 ... 255 255 255]\n",
      " [255 255 255 ... 255 252 255]\n",
      " ...\n",
      " [214 209 206 ... 255 222 218]\n",
      " [212 209 209 ... 224 219 238]\n",
      " [216 212 210 ... 241 224 214]]\n",
      "Image RGB component values after modifications (subtracting): \n",
      " [[0 0 0 ... 0 0 0]\n",
      " [0 0 0 ... 0 0 0]\n",
      " [0 0 0 ... 0 0 0]\n",
      " ...\n",
      " [0 0 0 ... 0 0 0]\n",
      " [0 0 0 ... 0 0 0]\n",
      " [0 0 0 ... 0 0 0]]\n"
     ]
    }
   ],
   "source": [
    "# OpenCV uses unsigned 8-bit integer datatype to store image data\n",
    "M = np.ones(img.shape, dtype=\"uint8\") * 200\n",
    "\n",
    "# while addition or subtraction make sure that values does not exceed the range (0-255)\n",
    "# else it will convert to 0 for negative integer and 255 for value above 255\n",
    "# and corresponding pixel will be white and black accordingly\n",
    "\n",
    "add= cv2.add(img, M)\n",
    "print(\"Image RGB component values: \\n\", img[:,:,2])\n",
    "print(\"Image RGB component values after modifications (adding): \\n\", add[:,:,2])\n",
    "cv2.imshow(\"Add\", add)\n",
    "cv2.waitKey()\n",
    "\n",
    "subtract= cv2.subtract(img, M)\n",
    "print(\"Image RGB component values after modifications (subtracting): \\n\", subtract[:,:,2])\n",
    "cv2.imshow(\"Subtract\", subtract)\n",
    "cv2.waitKey()\n",
    "\n",
    "cv2.destroyAllWindows()"
   ]
  }
 ],
 "metadata": {
  "kernelspec": {
   "display_name": "Python 3",
   "language": "python",
   "name": "python3"
  },
  "language_info": {
   "codemirror_mode": {
    "name": "ipython",
    "version": 3
   },
   "file_extension": ".py",
   "mimetype": "text/x-python",
   "name": "python",
   "nbconvert_exporter": "python",
   "pygments_lexer": "ipython3",
   "version": "3.8.8"
  }
 },
 "nbformat": 4,
 "nbformat_minor": 5
}
