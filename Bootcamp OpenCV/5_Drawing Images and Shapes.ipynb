{
 "cells": [
  {
   "cell_type": "code",
   "execution_count": 2,
   "id": "b0ba2ec9",
   "metadata": {},
   "outputs": [],
   "source": [
    "import cv2\n",
    "import numpy as np"
   ]
  },
  {
   "cell_type": "code",
   "execution_count": 7,
   "id": "4681387d",
   "metadata": {},
   "outputs": [],
   "source": [
    "# Black sheet\n",
    "black_sheet=np.zeros((500,500,3))\n",
    "black_sheet_bw=np.zeros((500,500)) #for Gray Scale shapes\n",
    "cv2.imshow('Blank sheet', black_sheet)\n",
    "cv2.imshow('Blank sheet (B&W)', black_sheet_bw)\n",
    "cv2.waitKey()\n",
    "cv2.destroyAllWindows()"
   ]
  },
  {
   "cell_type": "markdown",
   "id": "6cc0576c",
   "metadata": {},
   "source": [
    "### Lines\n",
    "cv2.line(image_variable, starting co-ordinates, ending co-ordinates, color, thickness)"
   ]
  },
  {
   "cell_type": "code",
   "execution_count": 34,
   "id": "378f7c75",
   "metadata": {},
   "outputs": [],
   "source": [
    "black_sheet=np.zeros((500,500,3))\n",
    "cv2.line(black_sheet, (100,50), (200,10), (255,0,120), 10)\n",
    "\n",
    "cv2.imshow('Line', black_sheet)\n",
    "cv2.waitKey()\n",
    "cv2.destroyAllWindows()"
   ]
  },
  {
   "cell_type": "markdown",
   "id": "318b5d3e",
   "metadata": {},
   "source": [
    "### Rectangle\n",
    "cv2.rectangle(image_variable, starting vertex, opposite vertex, color, thickness)\n",
    "\n",
    "Note:\n",
    "- thickness to be -1 to completely fill the shape"
   ]
  },
  {
   "cell_type": "code",
   "execution_count": 48,
   "id": "02190966",
   "metadata": {},
   "outputs": [],
   "source": [
    "black_sheet=np.zeros((500,500,3))\n",
    "cv2.rectangle(black_sheet, (100,250), (200,10), (100,0,100), -1)\n",
    "\n",
    "cv2.imshow('Rectangle', black_sheet)\n",
    "cv2.waitKey()\n",
    "cv2.destroyAllWindows()"
   ]
  },
  {
   "cell_type": "markdown",
   "id": "19664921",
   "metadata": {},
   "source": [
    "### Circle\n",
    "cv2.circle(image_variable, center, radius, color, thickness)  \n",
    "Note:\n",
    "\n",
    "- thickness to be -1 to completely fill the shape"
   ]
  },
  {
   "cell_type": "code",
   "execution_count": 55,
   "id": "2ed9218d",
   "metadata": {},
   "outputs": [],
   "source": [
    "black_sheet=np.zeros((500,500,3))\n",
    "cv2.circle(black_sheet, (280,150), 100, (0,3,100), -1)\n",
    "\n",
    "cv2.imshow('Circle', black_sheet)\n",
    "cv2.waitKey()\n",
    "cv2.destroyAllWindows()"
   ]
  },
  {
   "cell_type": "markdown",
   "id": "915ddd86",
   "metadata": {},
   "source": [
    "### Polygons\n",
    "cv2.polylines(image_variable, [pts], isClosed, color, thickness)\n",
    "\n",
    "Note:\n",
    "- isClosed value is True then Closed figure and if it's False then Open Figure\n",
    "- thickness to be -1 to completely fill the shape"
   ]
  },
  {
   "cell_type": "code",
   "execution_count": 79,
   "id": "003bde66",
   "metadata": {},
   "outputs": [
    {
     "name": "stdout",
     "output_type": "stream",
     "text": [
      "[[ 20   5]\n",
      " [350  50]\n",
      " [500 200]]\n",
      "[[[ 20   5]]\n",
      "\n",
      " [[350  50]]\n",
      "\n",
      " [[500 200]]]\n"
     ]
    }
   ],
   "source": [
    "black_sheet=np.zeros((500,500,3))\n",
    "pts= np.array([[20,5],[350,50],[500,200]])\n",
    "print(pts)\n",
    "pts= pts.reshape((-1,1,2))\n",
    "print(pts)\n",
    "cv2.polylines(black_sheet, [pts], True, (0,230,100), 2)\n",
    "\n",
    "cv2.imshow('Line', black_sheet)\n",
    "cv2.waitKey()\n",
    "cv2.destroyAllWindows()"
   ]
  },
  {
   "cell_type": "markdown",
   "id": "64196107",
   "metadata": {},
   "source": [
    "### Text\n",
    "cv2.putText(image_variable, 'Text to Display', bottom left starting point, Font, Font Size, Color, Thickness)  \n",
    "\n",
    "Font Styles:\n",
    "- FONT_HERSHEY_SIMPLEX, FONT_HERSHEY_PLAIN\n",
    "- FONT_HERSHEY_DUPLEX,FONT_HERSHEY_COMPLEX \n",
    "- FONT_HERSHEY_TRIPLEX, FONT_HERSHEY_COMPLEX_SMALL\n",
    "- FONT_HERSHEY_SCRIPT_SIMPLEX\n",
    "- FONT_HERSHEY_SCRIPT_COMPLEX"
   ]
  },
  {
   "cell_type": "code",
   "execution_count": 76,
   "id": "4f842773",
   "metadata": {},
   "outputs": [],
   "source": [
    "black_sheet=np.zeros((500,500,3))\n",
    "cv2.putText(black_sheet,'Hi', (90,300), cv2.FONT_HERSHEY_SIMPLEX, 12, (2,3,0), 2)\n",
    "\n",
    "cv2.imshow('Text', black_sheet)\n",
    "cv2.waitKey()\n",
    "cv2.destroyAllWindows()"
   ]
  }
 ],
 "metadata": {
  "kernelspec": {
   "display_name": "Python 3",
   "language": "python",
   "name": "python3"
  },
  "language_info": {
   "codemirror_mode": {
    "name": "ipython",
    "version": 3
   },
   "file_extension": ".py",
   "mimetype": "text/x-python",
   "name": "python",
   "nbconvert_exporter": "python",
   "pygments_lexer": "ipython3",
   "version": "3.8.8"
  }
 },
 "nbformat": 4,
 "nbformat_minor": 5
}
