{
 "cells": [
  {
   "cell_type": "code",
   "execution_count": 15,
   "id": "083b5579",
   "metadata": {},
   "outputs": [],
   "source": [
    "import cv2\n",
    "import numpy as np\n",
    "\n",
    "img= cv2.imread('./Nature.jpeg')\n",
    "cv2.imshow('Raindrops', img)\n",
    "cv2.waitKey()\n",
    "\n",
    "# Create our shapening kernel, we don't normalize since the \n",
    "# the values in the matrix sum to 1\n",
    "# if the sum does not corresponds to 1 then image will be either bright or dark\n",
    "\n",
    "kernel_sharpening = np.array([[0,0,0], [0,2,0], [0,0,-1]])\n",
    "sharpen1 = cv2.filter2D(img, -1, kernel_sharpening)\n",
    "cv2.imshow('Sharpening Image1', sharpen1)\n",
    "cv2.waitKey()\n",
    "\n",
    "kernel_sharpening = np.array([[-1,-1,-1], [-1,9,-1], [-1,-1,-1]])\n",
    "sharpen2 = cv2.filter2D(img, -1, kernel_sharpening)\n",
    "cv2.imshow('Sharpening Image2', sharpen2)\n",
    "cv2.waitKey()\n",
    "\n",
    "cv2.destroyAllWindows()"
   ]
  }
 ],
 "metadata": {
  "kernelspec": {
   "display_name": "Python 3",
   "language": "python",
   "name": "python3"
  },
  "language_info": {
   "codemirror_mode": {
    "name": "ipython",
    "version": 3
   },
   "file_extension": ".py",
   "mimetype": "text/x-python",
   "name": "python",
   "nbconvert_exporter": "python",
   "pygments_lexer": "ipython3",
   "version": "3.8.8"
  }
 },
 "nbformat": 4,
 "nbformat_minor": 5
}
