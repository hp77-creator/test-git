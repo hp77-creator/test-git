{
 "cells": [
  {
   "cell_type": "code",
   "execution_count": 1,
   "id": "4d912700",
   "metadata": {},
   "outputs": [],
   "source": [
    "import cv2\n",
    "import numpy as np\n",
    "\n",
    "img= cv2.imread('Nature.jpeg')\n",
    "height, width = img.shape[:2]"
   ]
  },
  {
   "cell_type": "markdown",
   "id": "050e26d5",
   "metadata": {},
   "source": [
    "crop_img_variable = img_variable [start_row : end_row, start_col : end_col]"
   ]
  },
  {
   "cell_type": "code",
   "execution_count": 7,
   "id": "8e94cd63",
   "metadata": {},
   "outputs": [],
   "source": [
    "# Cropping Image\n",
    "# OpenCV does not have any crop function but it can be done by NumPy library (Slicing of Array)\n",
    "crop= img[int(height * .25):int(height * .85) , int(width * .25):int(width * .9)]\n",
    "\n",
    "cv2.imshow(\"Raindrops\", img)\n",
    "cv2.waitKey() \n",
    "cv2.imshow(\"Cropped image\", crop) \n",
    "cv2.waitKey() \n",
    "cv2.destroyAllWindows()"
   ]
  }
 ],
 "metadata": {
  "kernelspec": {
   "display_name": "Python 3",
   "language": "python",
   "name": "python3"
  },
  "language_info": {
   "codemirror_mode": {
    "name": "ipython",
    "version": 3
   },
   "file_extension": ".py",
   "mimetype": "text/x-python",
   "name": "python",
   "nbconvert_exporter": "python",
   "pygments_lexer": "ipython3",
   "version": "3.8.8"
  }
 },
 "nbformat": 4,
 "nbformat_minor": 5
}
