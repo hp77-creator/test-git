{
 "cells": [
  {
   "cell_type": "markdown",
   "id": "e6e1c4f0",
   "metadata": {},
   "source": [
    "Animation of how convolution works??  \n",
    "https://theailearner.com/tag/cv2-filter2d/"
   ]
  },
  {
   "cell_type": "code",
   "execution_count": 15,
   "id": "37df1c21",
   "metadata": {},
   "outputs": [],
   "source": [
    "import cv2\n",
    "import numpy as np\n",
    "\n",
    "img= cv2.imread('./Nature.jpeg')\n",
    "cv2.imshow('Raindrops', img)\n",
    "cv2.waitKey()\n",
    "\n",
    "# Creating our 1 x 4 kernel\n",
    "kernel_1x4 = np.ones((1, 4), np.float32) / 4\n",
    "blurred = cv2.filter2D(img, -1, kernel_1x4)\n",
    "cv2.imshow('1x4 Kernel Blurring', blurred)\n",
    "cv2.waitKey()\n",
    "\n",
    "# Creating our 3 x 3 kernel\n",
    "kernel_3x3 = np.ones((3, 3), np.float32) / 9\n",
    "blurred = cv2.filter2D(img, -1, kernel_3x3)\n",
    "cv2.imshow('3x3 Kernel Blurring', blurred)\n",
    "cv2.waitKey()\n",
    "\n",
    "# Creating our 7 x 7 kernel\n",
    "kernel_7x7 = np.ones((7, 7), np.float32) / 49\n",
    "blurred = cv2.filter2D(img, -1, kernel_7x7)\n",
    "cv2.imshow('7x7 Kernel Blurring', blurred)\n",
    "cv2.waitKey()\n",
    "\n",
    "cv2.destroyAllWindows()"
   ]
  },
  {
   "cell_type": "markdown",
   "id": "68990f76",
   "metadata": {},
   "source": [
    "### OpenCV blurring functions:\n",
    "- cv2.blur() - Blurs by averaging kernel matrix \n",
    "- cv2.GaussianBlur() - Blurs by normalising Gaussian matrix\n",
    "- cv2.medianBlur() - Blurs by using median value\n",
    "- cv2.bilateralFilter() - Blurs the overall image and noise removal but keeps the edges sharp"
   ]
  },
  {
   "cell_type": "markdown",
   "id": "4621bb12",
   "metadata": {},
   "source": [
    "Watch the video '9.Blurring' under folder '3.Image Manipulations and Processing'  \n",
    "Drive link:  \n",
    "https://drive.google.com/drive/folders/1aoMNZr66dvexoF9pBmBc5HGaiBNr87sl?usp=sharing"
   ]
  },
  {
   "cell_type": "code",
   "execution_count": 33,
   "id": "25b586da",
   "metadata": {},
   "outputs": [],
   "source": [
    "blur = cv2.blur(img, (3,3))\n",
    "cv2.imshow('Averaging', blur)\n",
    "cv2.waitKey()\n",
    "\n",
    "Gaussian = cv2.GaussianBlur(img, (7,7), 0)\n",
    "cv2.imshow('Gaussian Blurring', Gaussian)\n",
    "cv2.waitKey()\n",
    "\n",
    "median = cv2.medianBlur(img, 5)\n",
    "cv2.imshow('Median Blurring', median)\n",
    "cv2.waitKey()\n",
    "\n",
    "bilateral = cv2.bilateralFilter(img, 9, 75, 75)\n",
    "cv2.imshow('Bilateral Blurring', bilateral)\n",
    "cv2.waitKey()\n",
    "cv2.destroyAllWindows()"
   ]
  },
  {
   "cell_type": "markdown",
   "id": "3bf31594",
   "metadata": {},
   "source": [
    "### Image De-noising - Non-Local Means Denoising\n",
    "\n",
    "###### There are 4 variations of Non-Local Means Denoising:\n",
    "\n",
    "- cv2.fastNlMeansDenoising() - works with a single grayscale images\n",
    "- cv2.fastNlMeansDenoisingColored() - works with a color image.\n",
    "- cv2.fastNlMeansDenoisingMulti() - works with image sequence captured in short period of time (grayscale images)\n",
    "- cv2.fastNlMeansDenoisingColoredMulti() - same as above, but for color images."
   ]
  },
  {
   "cell_type": "code",
   "execution_count": 34,
   "id": "0a010e38",
   "metadata": {},
   "outputs": [],
   "source": [
    "# Parameters, after None are - the filter strength 'h' (5-10 is a good range)\n",
    "# Next is hForColorComponents, set as same value as h again\n",
    "nos = cv2.fastNlMeansDenoisingColored(img, None, 6, 6, 7, 21)\n",
    "\n",
    "cv2.imshow('Fast Means Denoising', nos)\n",
    "cv2.waitKey()\n",
    "\n",
    "cv2.destroyAllWindows()"
   ]
  }
 ],
 "metadata": {
  "kernelspec": {
   "display_name": "Python 3",
   "language": "python",
   "name": "python3"
  },
  "language_info": {
   "codemirror_mode": {
    "name": "ipython",
    "version": 3
   },
   "file_extension": ".py",
   "mimetype": "text/x-python",
   "name": "python",
   "nbconvert_exporter": "python",
   "pygments_lexer": "ipython3",
   "version": "3.8.8"
  }
 },
 "nbformat": 4,
 "nbformat_minor": 5
}
