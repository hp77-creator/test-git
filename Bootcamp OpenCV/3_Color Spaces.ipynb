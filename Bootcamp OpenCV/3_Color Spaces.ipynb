{
 "cells": [
  {
   "cell_type": "markdown",
   "id": "e0d23fe8",
   "metadata": {},
   "source": [
    "# Color Spaces\n",
    "RGB, HSV, CMYK"
   ]
  },
  {
   "cell_type": "code",
   "execution_count": 1,
   "id": "363294c1",
   "metadata": {},
   "outputs": [],
   "source": [
    "import cv2\n",
    "import numpy as np"
   ]
  },
  {
   "cell_type": "code",
   "execution_count": 2,
   "id": "038d5450",
   "metadata": {},
   "outputs": [],
   "source": [
    "img=cv2.imread('./Nature.jpeg')"
   ]
  },
  {
   "cell_type": "code",
   "execution_count": 3,
   "id": "ee855bf2",
   "metadata": {},
   "outputs": [],
   "source": [
    "cv2.imshow('Raindrops',img)\n",
    "cv2.waitKey()\n",
    "cv2.destroyAllWindows()"
   ]
  },
  {
   "cell_type": "code",
   "execution_count": 4,
   "id": "88b10586",
   "metadata": {},
   "outputs": [
    {
     "data": {
      "text/plain": [
       "(504, 1120, 3)"
      ]
     },
     "execution_count": 4,
     "metadata": {},
     "output_type": "execute_result"
    }
   ],
   "source": [
    "img.shape"
   ]
  },
  {
   "cell_type": "raw",
   "id": "54f68cb4",
   "metadata": {},
   "source": [
    "Here, 3 in the output indicates that 3 other (RGB) components makes the image"
   ]
  },
  {
   "cell_type": "markdown",
   "id": "4f8282f6",
   "metadata": {},
   "source": [
    "### RGB color value of any pixel"
   ]
  },
  {
   "cell_type": "code",
   "execution_count": 5,
   "id": "8a5df7ec",
   "metadata": {},
   "outputs": [
    {
     "name": "stdout",
     "output_type": "stream",
     "text": [
      "93 90 85\n"
     ]
    }
   ],
   "source": [
    "B, G, R= img[12,56]\n",
    "print (B, G, R)"
   ]
  },
  {
   "cell_type": "markdown",
   "id": "6e340bfb",
   "metadata": {},
   "source": [
    "### Splitting the color components into individual images"
   ]
  },
  {
   "cell_type": "code",
   "execution_count": 6,
   "id": "fe47d65f",
   "metadata": {},
   "outputs": [],
   "source": [
    "B, G, R=cv2.split(img)\n",
    "cv2.imshow('Blue', B)\n",
    "cv2.waitKey()\n",
    "cv2.imshow('Red', R)\n",
    "cv2.waitKey()\n",
    "cv2.imshow('Green', G)\n",
    "cv2.waitKey()\n",
    "cv2.destroyAllWindows()"
   ]
  },
  {
   "cell_type": "markdown",
   "id": "33df3e03",
   "metadata": {},
   "source": [
    "### Merging back to original image"
   ]
  },
  {
   "cell_type": "code",
   "execution_count": 7,
   "id": "25d2af3d",
   "metadata": {},
   "outputs": [],
   "source": [
    "merge_img= cv2.merge([B, G, R])\n",
    "cv2.imshow('Merged image',merge_img)\n",
    "cv2.waitKey()\n",
    "cv2.destroyAllWindows()"
   ]
  },
  {
   "cell_type": "code",
   "execution_count": 8,
   "id": "21217e37",
   "metadata": {},
   "outputs": [
    {
     "data": {
      "text/plain": [
       "(504, 1120, 3)"
      ]
     },
     "execution_count": 8,
     "metadata": {},
     "output_type": "execute_result"
    }
   ],
   "source": [
    "merge_img.shape"
   ]
  },
  {
   "cell_type": "code",
   "execution_count": 9,
   "id": "6fd7e3e6",
   "metadata": {},
   "outputs": [],
   "source": [
    "# Amplifies merged image\n",
    "amp=cv2.merge([B+22, G+10, R+12])\n",
    "cv2.imshow('Merged Amplified image',amp)\n",
    "cv2.waitKey()\n",
    "cv2.destroyAllWindows()"
   ]
  },
  {
   "cell_type": "code",
   "execution_count": 10,
   "id": "e7a9c321",
   "metadata": {},
   "outputs": [],
   "source": [
    "#Original image\n",
    "cv2.imshow('Raindrops',img)\n",
    "cv2.waitKey()\n",
    "cv2.destroyAllWindows()"
   ]
  },
  {
   "cell_type": "markdown",
   "id": "3b78d418",
   "metadata": {},
   "source": [
    "###### To view image in split form but in RGB shades instead of GrayScale form"
   ]
  },
  {
   "cell_type": "code",
   "execution_count": 11,
   "id": "389f16d1",
   "metadata": {},
   "outputs": [],
   "source": [
    "B, G, R=cv2.split(img)\n",
    "zeros= np.zeros(img.shape[:2], dtype = \"uint8\")\n",
    "cv2.imshow('Blue', cv2.merge([B, zeros, zeros]))\n",
    "cv2.waitKey()\n",
    "cv2.imshow('Green', cv2.merge([zeros, G, zeros]))\n",
    "cv2.waitKey()\n",
    "cv2.imshow('Red', cv2.merge([zeros, zeros, R]))\n",
    "cv2.waitKey()\n",
    "cv2.destroyAllWindows()"
   ]
  },
  {
   "cell_type": "markdown",
   "id": "c97cf671",
   "metadata": {},
   "source": [
    "### Image to GrayScale"
   ]
  },
  {
   "cell_type": "code",
   "execution_count": 12,
   "id": "20b00b65",
   "metadata": {},
   "outputs": [],
   "source": [
    "gray_img= cv2.cvtColor(img, cv2.COLOR_BGR2GRAY)\n",
    "cv2.imshow('Grayscale',gray_img)\n",
    "cv2.waitKey()\n",
    "cv2.destroyAllWindows()"
   ]
  },
  {
   "cell_type": "code",
   "execution_count": 13,
   "id": "0605c217",
   "metadata": {},
   "outputs": [
    {
     "name": "stdout",
     "output_type": "stream",
     "text": [
      "(504, 1120)\n"
     ]
    }
   ],
   "source": [
    "print (gray_img.shape)"
   ]
  },
  {
   "cell_type": "markdown",
   "id": "06efc306",
   "metadata": {},
   "source": [
    "RGB image have 3 values \n",
    "While, Grayscale image have 1 value i.e. Gray color value ranging from 0 to 255"
   ]
  },
  {
   "cell_type": "code",
   "execution_count": 14,
   "id": "55991ee2",
   "metadata": {},
   "outputs": [
    {
     "name": "stdout",
     "output_type": "stream",
     "text": [
      "94\n"
     ]
    },
    {
     "data": {
      "text/plain": [
       "array([80, 80, 80], dtype=uint8)"
      ]
     },
     "execution_count": 14,
     "metadata": {},
     "output_type": "execute_result"
    }
   ],
   "source": [
    "print (gray_img[12, 1000])\n",
    "gray_img[1, 0:3]"
   ]
  },
  {
   "cell_type": "code",
   "execution_count": 15,
   "id": "4c6f720d",
   "metadata": {},
   "outputs": [
    {
     "ename": "ValueError",
     "evalue": "not enough values to unpack (expected 2, got 1)",
     "output_type": "error",
     "traceback": [
      "\u001b[1;31m---------------------------------------------------------------------------\u001b[0m",
      "\u001b[1;31mValueError\u001b[0m                                Traceback (most recent call last)",
      "\u001b[1;32m<ipython-input-15-6a5e4cee4375>\u001b[0m in \u001b[0;36m<module>\u001b[1;34m\u001b[0m\n\u001b[1;32m----> 1\u001b[1;33m \u001b[0mGr1\u001b[0m\u001b[1;33m,\u001b[0m \u001b[0mGr2\u001b[0m\u001b[1;33m=\u001b[0m\u001b[0mcv2\u001b[0m\u001b[1;33m.\u001b[0m\u001b[0msplit\u001b[0m\u001b[1;33m(\u001b[0m\u001b[0mgray_img\u001b[0m\u001b[1;33m)\u001b[0m\u001b[1;33m\u001b[0m\u001b[1;33m\u001b[0m\u001b[0m\n\u001b[0m\u001b[0;32m      2\u001b[0m \u001b[0mcv2\u001b[0m\u001b[1;33m.\u001b[0m\u001b[0mimshow\u001b[0m\u001b[1;33m(\u001b[0m\u001b[1;34m'Gray1'\u001b[0m\u001b[1;33m,\u001b[0m \u001b[0mGr1\u001b[0m\u001b[1;33m)\u001b[0m\u001b[1;33m\u001b[0m\u001b[1;33m\u001b[0m\u001b[0m\n\u001b[0;32m      3\u001b[0m \u001b[0mcv2\u001b[0m\u001b[1;33m.\u001b[0m\u001b[0mwaitKey\u001b[0m\u001b[1;33m(\u001b[0m\u001b[1;33m)\u001b[0m\u001b[1;33m\u001b[0m\u001b[1;33m\u001b[0m\u001b[0m\n\u001b[0;32m      4\u001b[0m \u001b[0mcv2\u001b[0m\u001b[1;33m.\u001b[0m\u001b[0mimshow\u001b[0m\u001b[1;33m(\u001b[0m\u001b[1;34m'Gray2'\u001b[0m\u001b[1;33m,\u001b[0m \u001b[0mGr2\u001b[0m\u001b[1;33m)\u001b[0m\u001b[1;33m\u001b[0m\u001b[1;33m\u001b[0m\u001b[0m\n\u001b[0;32m      5\u001b[0m \u001b[0mcv2\u001b[0m\u001b[1;33m.\u001b[0m\u001b[0mwaitKey\u001b[0m\u001b[1;33m(\u001b[0m\u001b[1;33m)\u001b[0m\u001b[1;33m\u001b[0m\u001b[1;33m\u001b[0m\u001b[0m\n",
      "\u001b[1;31mValueError\u001b[0m: not enough values to unpack (expected 2, got 1)"
     ]
    }
   ],
   "source": [
    "Gr1, Gr2=cv2.split(gray_img)\n",
    "cv2.imshow('Gray1', Gr1)\n",
    "cv2.waitKey()\n",
    "cv2.imshow('Gray2', Gr2)\n",
    "cv2.waitKey()\n",
    "cv2.destroyAllWindows()"
   ]
  },
  {
   "cell_type": "markdown",
   "id": "935e3e2c",
   "metadata": {},
   "source": [
    "Just as seen above, GrayScale image can't be split as it has 'only 1' component"
   ]
  },
  {
   "cell_type": "markdown",
   "id": "e79b0d64",
   "metadata": {},
   "source": [
    "## HSV color space"
   ]
  },
  {
   "cell_type": "code",
   "execution_count": 16,
   "id": "aeba4b37",
   "metadata": {},
   "outputs": [],
   "source": [
    "hsv= cv2.cvtColor(img, cv2.COLOR_BGR2HSV)\n",
    "cv2.imshow('HSV image', hsv)\n",
    "cv2.waitKey()\n",
    "cv2.destroyAllWindows()"
   ]
  },
  {
   "cell_type": "code",
   "execution_count": 17,
   "id": "71be134c",
   "metadata": {},
   "outputs": [
    {
     "data": {
      "text/plain": [
       "(504, 1120, 3)"
      ]
     },
     "execution_count": 17,
     "metadata": {},
     "output_type": "execute_result"
    }
   ],
   "source": [
    "hsv.shape"
   ]
  },
  {
   "cell_type": "code",
   "execution_count": 18,
   "id": "97ea16d5",
   "metadata": {},
   "outputs": [],
   "source": [
    "cv2.imshow('Hue channel', hsv[:, :, 0])\n",
    "cv2.waitKey()\n",
    "cv2.imshow('Saturation channel', hsv[:, :, 1])\n",
    "cv2.waitKey()\n",
    "cv2.imshow('Value channel', hsv[:, :, 2])\n",
    "cv2.waitKey()\n",
    "\n",
    "cv2.destroyAllWindows()"
   ]
  }
 ],
 "metadata": {
  "kernelspec": {
   "display_name": "Python 3",
   "language": "python",
   "name": "python3"
  },
  "language_info": {
   "codemirror_mode": {
    "name": "ipython",
    "version": 3
   },
   "file_extension": ".py",
   "mimetype": "text/x-python",
   "name": "python",
   "nbconvert_exporter": "python",
   "pygments_lexer": "ipython3",
   "version": "3.8.8"
  }
 },
 "nbformat": 4,
 "nbformat_minor": 5
}
