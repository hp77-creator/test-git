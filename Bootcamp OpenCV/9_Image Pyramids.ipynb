{
 "cells": [
  {
   "cell_type": "code",
   "execution_count": 1,
   "id": "76c6cfa0",
   "metadata": {},
   "outputs": [],
   "source": [
    "import cv2\n",
    "\n",
    "img= cv2.imread('./Nature.jpeg')\n",
    "\n",
    "small= cv2.pyrDown(img)  # Decreases img size by x0.5\n",
    "large= cv2.pyrUp(small)  # Increases img size by x2 and image quality too decreases\n",
    "\n",
    "cv2.imshow('Nature', img)\n",
    "cv2.waitKey()\n",
    "cv2.imshow('Small', small)\n",
    "cv2.waitKey()\n",
    "cv2.imshow('Large', large)\n",
    "cv2.waitKey()\n",
    "cv2.destroyAllWindows()"
   ]
  }
 ],
 "metadata": {
  "kernelspec": {
   "display_name": "Python 3",
   "language": "python",
   "name": "python3"
  },
  "language_info": {
   "codemirror_mode": {
    "name": "ipython",
    "version": 3
   },
   "file_extension": ".py",
   "mimetype": "text/x-python",
   "name": "python",
   "nbconvert_exporter": "python",
   "pygments_lexer": "ipython3",
   "version": "3.8.8"
  }
 },
 "nbformat": 4,
 "nbformat_minor": 5
}
