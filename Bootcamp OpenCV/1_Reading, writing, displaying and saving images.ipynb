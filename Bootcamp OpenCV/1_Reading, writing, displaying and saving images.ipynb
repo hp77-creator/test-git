{
 "cells": [
  {
   "cell_type": "code",
   "execution_count": 1,
   "id": "d401f9d4",
   "metadata": {},
   "outputs": [],
   "source": [
    "import cv2"
   ]
  },
  {
   "cell_type": "code",
   "execution_count": 2,
   "id": "b02ad191",
   "metadata": {},
   "outputs": [],
   "source": [
    "import numpy as np"
   ]
  },
  {
   "cell_type": "code",
   "execution_count": 3,
   "id": "61daaa9a",
   "metadata": {},
   "outputs": [],
   "source": [
    "pic = cv2.imread('./Nature.jpeg') #Read image file \n",
    "\n",
    "#first parameter is title followed by image_variable_name or 'input' word (instead of pic, here)\n",
    "cv2.imshow('Hello World', pic)\n",
    "\n",
    "#waits for some specific milliseconds(ms) as specified in bracketts\n",
    "#leaving it blank means 0ms i.e. waits until any key is pressed\n",
    "cv2.waitKey() \n",
    "\n",
    "#closes all open windows\n",
    "cv2.destroyAllWindows()"
   ]
  },
  {
   "cell_type": "code",
   "execution_count": 4,
   "id": "3ebffd6c",
   "metadata": {},
   "outputs": [
    {
     "data": {
      "text/plain": [
       "(504, 1120, 3)"
      ]
     },
     "execution_count": 4,
     "metadata": {},
     "output_type": "execute_result"
    }
   ],
   "source": [
    "pic.shape\n",
    "#2D array"
   ]
  },
  {
   "cell_type": "code",
   "execution_count": 5,
   "id": "b0e1993b",
   "metadata": {},
   "outputs": [
    {
     "name": "stdout",
     "output_type": "stream",
     "text": [
      "Height of Image: 504 pixels\n",
      "Width of Image:  1120 pixels\n"
     ]
    }
   ],
   "source": [
    "print ('Height of Image:', int(pic.shape[0]), 'pixels')\n",
    "print ('Width of Image: ', pic.shape[1], 'pixels')"
   ]
  },
  {
   "cell_type": "code",
   "execution_count": 6,
   "id": "ad25ed7a",
   "metadata": {},
   "outputs": [
    {
     "data": {
      "text/plain": [
       "3"
      ]
     },
     "execution_count": 6,
     "metadata": {},
     "output_type": "execute_result"
    }
   ],
   "source": [
    "pic.shape[2]\n",
    "#Index 2 value i.e. 3 represents RGB component of image"
   ]
  },
  {
   "cell_type": "code",
   "execution_count": 7,
   "id": "eeebb12d",
   "metadata": {},
   "outputs": [
    {
     "data": {
      "text/plain": [
       "True"
      ]
     },
     "execution_count": 7,
     "metadata": {},
     "output_type": "execute_result"
    }
   ],
   "source": [
    "# Produces an file in any format as mentioned \n",
    "# image_variable_name or 'input' word (instead of pic, here)\n",
    "cv2.imwrite('Nature_output.png',pic)"
   ]
  }
 ],
 "metadata": {
  "kernelspec": {
   "display_name": "Python 3",
   "language": "python",
   "name": "python3"
  },
  "language_info": {
   "codemirror_mode": {
    "name": "ipython",
    "version": 3
   },
   "file_extension": ".py",
   "mimetype": "text/x-python",
   "name": "python",
   "nbconvert_exporter": "python",
   "pygments_lexer": "ipython3",
   "version": "3.8.8"
  }
 },
 "nbformat": 4,
 "nbformat_minor": 5
}
