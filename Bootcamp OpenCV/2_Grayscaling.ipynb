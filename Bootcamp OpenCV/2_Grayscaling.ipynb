{
 "cells": [
  {
   "cell_type": "markdown",
   "id": "98006a38",
   "metadata": {},
   "source": [
    "# Grayscaling\n",
    "\n",
    "###### Converting an image to shades of grey"
   ]
  },
  {
   "cell_type": "code",
   "execution_count": 1,
   "id": "99fd41e6",
   "metadata": {},
   "outputs": [],
   "source": [
    "import cv2\n",
    "img= cv2.imread('./Nature.jpeg')\n",
    "cv2.imshow('Nature', img)\n",
    "cv2.waitKey()\n",
    "\n",
    "# RGB image to Grayscale\n",
    "gray_img= cv2.cvtColor(img, cv2.COLOR_BGR2GRAY)\n",
    "cv2.imshow('GrayScale',gray_img)\n",
    "cv2.waitKey()\n",
    "cv2.destroyAllWindows()"
   ]
  },
  {
   "cell_type": "code",
   "execution_count": 2,
   "id": "1a9442a6",
   "metadata": {},
   "outputs": [],
   "source": [
    "# Directly converts to Gray Image\n",
    "nat_img= cv2.imread('./Nature.jpeg',0)\n",
    "cv2.imshow('Gray',nat_img)\n",
    "cv2.waitKey()\n",
    "cv2.destroyAllWindows()"
   ]
  },
  {
   "cell_type": "code",
   "execution_count": 3,
   "id": "9fa2e34d",
   "metadata": {},
   "outputs": [
    {
     "data": {
      "text/plain": [
       "True"
      ]
     },
     "execution_count": 3,
     "metadata": {},
     "output_type": "execute_result"
    }
   ],
   "source": [
    "cv2.imwrite('GrayScale_img.jpg',nat_img)"
   ]
  }
 ],
 "metadata": {
  "kernelspec": {
   "display_name": "Python 3",
   "language": "python",
   "name": "python3"
  },
  "language_info": {
   "codemirror_mode": {
    "name": "ipython",
    "version": 3
   },
   "file_extension": ".py",
   "mimetype": "text/x-python",
   "name": "python",
   "nbconvert_exporter": "python",
   "pygments_lexer": "ipython3",
   "version": "3.8.8"
  }
 },
 "nbformat": 4,
 "nbformat_minor": 5
}
