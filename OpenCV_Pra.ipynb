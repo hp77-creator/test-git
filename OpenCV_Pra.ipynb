{
 "cells": [
  {
   "cell_type": "code",
   "execution_count": 1,
   "id": "d323aa2f",
   "metadata": {},
   "outputs": [],
   "source": [
    "import numpy as np\n",
    "from matplotlib import pyplot as plt\n",
    "import cv2"
   ]
  },
  {
   "cell_type": "code",
   "execution_count": 2,
   "id": "b08374a5",
   "metadata": {},
   "outputs": [],
   "source": [
    "image = cv2.imread(r'C:\\Users\\allen\\Desktop\\OpenCv\\svnit.jpg')\n",
    "cv2.imshow('Original', image)\n",
    "cv2.waitKey(0)\n",
    "cv2.destroyAllWindows()"
   ]
  },
  {
   "cell_type": "code",
   "execution_count": 3,
   "id": "60807441",
   "metadata": {},
   "outputs": [],
   "source": [
    "gray_image = cv2.cvtColor(image, cv2.COLOR_BGR2GRAY)\n",
    "\n",
    "cv2.imshow('Grayscale', gray_image)\n",
    "cv2.waitKey(1000)\n",
    "cv2.destroyAllWindows()"
   ]
  },
  {
   "cell_type": "code",
   "execution_count": 4,
   "id": "ec7fe530",
   "metadata": {},
   "outputs": [
    {
     "data": {
      "image/png": "[encoded data removed]",
      "text/plain": [
       "<Figure size 432x288 with 1 Axes>"
      ]
     },
     "metadata": {
      "needs_background": "light"
     },
     "output_type": "display_data"
    },
    {
     "data": {
      "image/png": "[encoded data removed]",
      "text/plain": [
       "<Figure size 432x288 with 1 Axes>"
      ]
     },
     "metadata": {
      "needs_background": "light"
     },
     "output_type": "display_data"
    }
   ],
   "source": [
    "image = cv2.imread(r'C:\\Users\\allen\\Desktop\\OpenCv\\svnit.jpg')\n",
    "histogram= cv2.calcHist([image], [0],None , [256], [0, 256])\n",
    "\n",
    "plt.hist(image.ravel(), 256, [0, 256]);plt.show()\n",
    "\n",
    "color= ('b', 'g', 'r')\n",
    "\n",
    "for i, col in enumerate(color):\n",
    "    histogram2 = cv2.calcHist([image], [i],None , [256], [0, 256])\n",
    "    plt.plot(histogram2, color=col)\n",
    "    plt.xlim([0,256])\n",
    "\n",
    "plt.show()"
   ]
  },
  {
   "cell_type": "code",
   "execution_count": 5,
   "id": "53947eb5",
   "metadata": {},
   "outputs": [],
   "source": [
    "import numpy as np\n",
    "img= np.zeros((512,512,3), np.uint8)\n",
    "\n",
    "img_bw=  np.zeros((512,512), np.uint8)\n",
    "\n",
    "cv2.imshow('black rectangle (color)', img)\n",
    "cv2.imshow('black rectangle (B&W)', img_bw)\n",
    "\n",
    "cv2.waitKey(1000)\n",
    "cv2.destroyAllWindows()"
   ]
  },
  {
   "cell_type": "code",
   "execution_count": 6,
   "id": "d680d38f",
   "metadata": {},
   "outputs": [],
   "source": [
    "import cv2\n",
    "\n",
    "image = cv2.imread(r'C:\\Users\\allen\\Desktop\\OpenCv\\svnit.jpg')\n",
    "\n",
    "height, width = image.shape[:2]\n",
    "quarter_height, quarter_width= height/4, width/4\n",
    "\n",
    "T= np.float32([[1, 0, quarter_width],[0,1, quarter_height]])\n",
    "\n",
    "img_translation= cv2.warpAffine(image, T, (width, height))\n",
    "cv2.imshow('translations',img_translation )\n",
    "cv2.waitKey(1000)\n",
    "cv2.destroyAllWindows()"
   ]
  },
  {
   "cell_type": "code",
   "execution_count": 7,
   "id": "611ebec3",
   "metadata": {},
   "outputs": [],
   "source": [
    "image = cv2.imread(r'C:\\Users\\allen\\Desktop\\OpenCv\\svnit.jpg')\n",
    "cv2.imshow('Original', image)\n",
    "cv2.waitKey(1000)\n",
    "cv2.destroyAllWindows()\n",
    "\n",
    "kernel_sharpening= np.array([[-1,-1,-1],\n",
    "                           [-1,9,-1],\n",
    "                           [-1,-1,-1]])\n",
    "sharpened= cv2.filter2D(image,-1,kernel_sharpening )\n",
    "cv2.imshow('sharpened',sharpened )\n",
    "cv2.waitKey(1000)\n",
    "cv2.destroyAllWindows()"
   ]
  },
  {
   "cell_type": "code",
   "execution_count": 8,
   "id": "e5443a0a",
   "metadata": {},
   "outputs": [
    {
     "name": "stdout",
     "output_type": "stream",
     "text": [
      "no. of contours found=729\n"
     ]
    }
   ],
   "source": [
    "imag = cv2.imread(r'C:\\Users\\allen\\Desktop\\OpenCv\\svnit.jpg')\n",
    "cv2.imshow('Original', imag)\n",
    "cv2.waitKey(1000)\n",
    "cv2.destroyAllWindows()\n",
    "gray=cv2.cvtColor(imag,cv2.COLOR_BGR2GRAY)\n",
    "\n",
    "edged=cv2.Canny(gray, 30, 200)\n",
    "cv2.imshow('canny edges', edged)\n",
    "cv2.waitKey(1000)\n",
    "cv2.destroyAllWindows()\n",
    "contours, hierarcy =cv2.findContours(edged, cv2.RETR_EXTERNAL, cv2.CHAIN_APPROX_NONE)\n",
    "cv2.imshow('canny edges after contouring', edged)\n",
    "cv2.waitKey(1000)\n",
    "cv2.destroyAllWindows()\n",
    "print('no. of contours found=' +str(len(contours)))\n",
    "\n",
    "cv2.drawContours(imag, contours, -1, (0, 255,0), 3)\n",
    "cv2.imshow('contours', imag)\n",
    "cv2.waitKey(1000)\n",
    "cv2.destroyAllWindows()"
   ]
  },
  {
   "cell_type": "code",
   "execution_count": 9,
   "id": "a474f38d",
   "metadata": {},
   "outputs": [],
   "source": [
    "sud=cv2.imread(r'C:\\Users\\allen\\Desktop\\OpenCv\\svnit.jpg')\n",
    "\n",
    "gray= cv2.cvtColor(sud, cv2.COLOR_BGR2GRAY)\n",
    "edges= cv2.Canny(gray, 50,170 , apertureSize=3)\n",
    "\n",
    "lines= cv2.HoughLines(edges, 1, np.pi/180, 200)\n",
    "\n",
    "for r,theta in lines[0]:\n",
    "    a= np.cos(theta)\n",
    "    b= np.sin(theta)\n",
    "    x0= a*r\n",
    "    y0= b*r\n",
    "    x1= int(x0+1000*(-b))\n",
    "    y1= int(y0+1000*(a))\n",
    "    x2= int(x0-1000*(-b))\n",
    "    y2= int(y0-1000*(a))\n",
    "    cv2.line(sud, (x1,y1), (x2,y2), (225, 0, 0), 2)\n",
    "\n",
    "cv2.imshow('Houglas lines', sud)\n",
    "cv2.waitKey(1000)\n",
    "cv2.destroyAllWindows()"
   ]
  },
  {
   "cell_type": "code",
   "execution_count": 10,
   "id": "854431b2",
   "metadata": {},
   "outputs": [],
   "source": [
    "hsv_img = cv2.cvtColor(image, cv2.COLOR_BGR2HSV)\n",
    "cv2.imshow(\"Value channel\", hsv_img[:,:,2])\n",
    "cv2.waitKey(1000)\n",
    "cv2.destroyAllWindows()"
   ]
  },
  {
   "cell_type": "code",
   "execution_count": 11,
   "id": "3021e874",
   "metadata": {},
   "outputs": [],
   "source": [
    "R,B,G = cv2.split(image)\n",
    "zeros = np.zeros(image.shape[:2],dtype = \"uint8\")\n",
    "cv2.imshow(\"Red\", cv2.merge([zeros,G,R]))\n",
    "cv2.waitKey(1000)\n",
    "cv2.destroyAllWindows()"
   ]
  },
  {
   "cell_type": "code",
   "execution_count": 12,
   "id": "7b56a56d",
   "metadata": {},
   "outputs": [],
   "source": [
    "sorted_ = sorted(contours,key=cv2.contourArea,reverse =True)"
   ]
  },
  {
   "cell_type": "code",
   "execution_count": null,
   "id": "d78d1e64",
   "metadata": {},
   "outputs": [],
   "source": [
    "for c_ in sorted_:\n",
    "    cv2.drawContours(image,[c_],-1,(0,255,0),3)\n",
    "    cv2.waitKey(0)\n",
    "    cv2.imshow(\"Highlighting\",image)\n",
    "\n",
    "cv2.waitKey(1000)\n",
    "cv2.destroyAllWindows(0)"
   ]
  },
  {
   "cell_type": "code",
   "execution_count": null,
   "id": "0608cf26",
   "metadata": {},
   "outputs": [],
   "source": [
    " "
   ]
  }
 ],
 "metadata": {
  "kernelspec": {
   "display_name": "var1k",
   "language": "python",
   "name": "var1k"
  },
  "language_info": {
   "codemirror_mode": {
    "name": "ipython",
    "version": 3
   },
   "file_extension": ".py",
   "mimetype": "text/x-python",
   "name": "python",
   "nbconvert_exporter": "python",
   "pygments_lexer": "ipython3",
   "version": "3.6.13"
  }
 },
 "nbformat": 4,
 "nbformat_minor": 5
}
