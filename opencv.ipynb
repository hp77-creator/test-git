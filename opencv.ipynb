{
 "cells": [
  {
   "cell_type": "code",
   "execution_count": 14,
   "id": "746bf789",
   "metadata": {},
   "outputs": [
    {
     "name": "stdout",
     "output_type": "stream",
     "text": [
      "hello\n"
     ]
    }
   ],
   "source": [
    "print(\"hello\")"
   ]
  },
  {
   "cell_type": "code",
   "execution_count": 15,
   "id": "aa2feabd",
   "metadata": {},
   "outputs": [],
   "source": [
    "import numpy as np\n",
    "from matplotlib import pyplot as plt"
   ]
  },
  {
   "cell_type": "markdown",
   "id": "1abb2b2f",
   "metadata": {},
   "source": [
    "GRAY SCALING"
   ]
  },
  {
   "cell_type": "code",
   "execution_count": 16,
   "id": "b735b260",
   "metadata": {},
   "outputs": [
    {
     "data": {
      "text/plain": [
       "-1"
      ]
     },
     "execution_count": 16,
     "metadata": {},
     "output_type": "execute_result"
    }
   ],
   "source": [
    "\n",
    "import cv2\n",
    "\n",
    "\n",
    "image = cv2.imread(r'C:\\Users\\adith\\OneDrive\\Pictures\\Saved Pictures\\baby.jfif')\n",
    "cv2.imshow('Original', image)\n",
    "cv2.waitKey(1000)\n",
    "\n",
    "\n",
    "\n"
   ]
  },
  {
   "cell_type": "code",
   "execution_count": 17,
   "id": "4588fe57",
   "metadata": {},
   "outputs": [
    {
     "data": {
      "text/plain": [
       "-1"
      ]
     },
     "execution_count": 17,
     "metadata": {},
     "output_type": "execute_result"
    }
   ],
   "source": [
    "gray_image = cv2.cvtColor(image, cv2.COLOR_BGR2GRAY)\n",
    "\n",
    "cv2.imshow('Grayscale', gray_image)\n",
    "cv2.waitKey(1000)\n",
    "\n"
   ]
  },
  {
   "cell_type": "markdown",
   "id": "5482d266",
   "metadata": {},
   "source": [
    "HISTOGRAM\n"
   ]
  },
  {
   "cell_type": "code",
   "execution_count": 18,
   "id": "c7935076",
   "metadata": {},
   "outputs": [
    {
     "data": {
      "image/png": "[encoded data removed]",
      "text/plain": [
       "<Figure size 432x288 with 1 Axes>"
      ]
     },
     "metadata": {
      "needs_background": "light"
     },
     "output_type": "display_data"
    },
    {
     "data": {
      "image/png": "[encoded data removed]",
      "text/plain": [
       "<Figure size 432x288 with 1 Axes>"
      ]
     },
     "metadata": {
      "needs_background": "light"
     },
     "output_type": "display_data"
    }
   ],
   "source": [
    "image = cv2.imread(r'C:\\Users\\adith\\OneDrive\\Pictures\\Saved Pictures\\baby.jfif')\n",
    "#cv2.calcHist(images, channels(red, blue, green), mask, histsize, range[hist(accumulate)] )\n",
    "histogram= cv2.calcHist([image], [0],None , [256], [0, 256])\n",
    "\n",
    "#ravel() flatens our image array \n",
    "plt.hist(image.ravel(), 256, [0, 256]);plt.show()\n",
    "\n",
    "color= ('b', 'g', 'r')\n",
    "\n",
    "for i, col in enumerate(color):\n",
    "    histogram2 = cv2.calcHist([image], [i],None , [256], [0, 256])\n",
    "    plt.plot(histogram2, color=col)\n",
    "    plt.xlim([0,256])\n",
    "\n",
    "plt.show()"
   ]
  },
  {
   "cell_type": "markdown",
   "id": "b53b1cfb",
   "metadata": {},
   "source": [
    "DRAWING A BLACK SQUARE \n",
    "\n"
   ]
  },
  {
   "cell_type": "code",
   "execution_count": 20,
   "id": "fd6b9a9b",
   "metadata": {},
   "outputs": [
    {
     "data": {
      "text/plain": [
       "-1"
      ]
     },
     "execution_count": 20,
     "metadata": {},
     "output_type": "execute_result"
    }
   ],
   "source": [
    "import numpy as np\n",
    "img= np.zeros((512,512,3), np.uint8)\n",
    "\n",
    "#black or white\n",
    "img_bw=  np.zeros((512,512), np.uint8)\n",
    "\n",
    "cv2.imshow('black rectangle (color)', img)\n",
    "cv2.imshow('black rectangle (B&W)', img_bw)\n",
    "\n",
    "cv2.waitKey(1000)"
   ]
  },
  {
   "cell_type": "markdown",
   "id": "6f4c03e8",
   "metadata": {},
   "source": [
    "draw a line\n",
    "cv2.line(image, starting coordinates, ending cordinates, color, thickness)\n",
    "\n",
    "draw a rectangle\n",
    "cv2.rectangle(image, starting vertex, opposite vertex, color, thickness)\n",
    "\n",
    "a circle\n",
    "cv2.circle(image, centre, radius, color,fill)"
   ]
  },
  {
   "cell_type": "markdown",
   "id": "a3e40959",
   "metadata": {},
   "source": [
    "# translations"
   ]
  },
  {
   "cell_type": "code",
   "execution_count": 23,
   "id": "44d3341c",
   "metadata": {},
   "outputs": [
    {
     "data": {
      "text/plain": [
       "-1"
      ]
     },
     "execution_count": 23,
     "metadata": {},
     "output_type": "execute_result"
    }
   ],
   "source": [
    "import cv2\n",
    "\n",
    "\n",
    "image = cv2.imread(r'C:\\Users\\adith\\OneDrive\\Pictures\\Saved Pictures\\baby.jfif')\n",
    "\n",
    "#store height and width of the image\n",
    "height, width = image.shape[:2]\n",
    "quarter_height, quarter_width= height/4, width/4\n",
    "\n",
    "# T is our translation\n",
    "T= np.float32([[1, 0, quarter_width],[0,1, quarter_height]])\n",
    "\n",
    "#we use the warpAffine to tranform the image using the matrix\n",
    "img_translation= cv2.warpAffine(image, T, (width, height))\n",
    "cv2.imshow('translations',img_translation )\n",
    "cv2.waitKey(1000)"
   ]
  },
  {
   "cell_type": "markdown",
   "id": "69b119d1",
   "metadata": {},
   "source": [
    "# sharpening\n",
    "\n",
    "\n"
   ]
  },
  {
   "cell_type": "code",
   "execution_count": 24,
   "id": "7cdbda5d",
   "metadata": {},
   "outputs": [
    {
     "data": {
      "text/plain": [
       "-1"
      ]
     },
     "execution_count": 24,
     "metadata": {},
     "output_type": "execute_result"
    }
   ],
   "source": [
    "image = cv2.imread(r'C:\\Users\\adith\\OneDrive\\Pictures\\Saved Pictures\\baby.jfif')\n",
    "cv2.imshow('Original', image)\n",
    "cv2.waitKey(1000)\n",
    "\n",
    "\n",
    "kernel_sharpening= np.array([[-1,-1,-1],\n",
    "                           [-1,9,-1],\n",
    "                           [-1,-1,-1]])\n",
    "sharpened= cv2.filter2D(image,-1,kernel_sharpening )\n",
    "cv2.imshow('sharpened',sharpened )\n",
    "cv2.waitKey(1000)\n"
   ]
  },
  {
   "cell_type": "markdown",
   "id": "f461cf3d",
   "metadata": {},
   "source": [
    "# contour"
   ]
  },
  {
   "cell_type": "code",
   "execution_count": 31,
   "id": "38588bc3",
   "metadata": {},
   "outputs": [
    {
     "name": "stdout",
     "output_type": "stream",
     "text": [
      "no. of contours found=4\n"
     ]
    },
    {
     "data": {
      "text/plain": [
       "-1"
      ]
     },
     "execution_count": 31,
     "metadata": {},
     "output_type": "execute_result"
    }
   ],
   "source": [
    "imag = cv2.imread(r'C:\\Users\\adith\\OneDrive\\Pictures\\Saved Pictures\\3.png')\n",
    "cv2.imshow('Original', imag)\n",
    "cv2.waitKey(1000)\n",
    "\n",
    "#grayscale\n",
    "gray=cv2.cvtColor(imag,cv2.COLOR_BGR2GRAY)\n",
    "\n",
    "#find canny\n",
    "edged=cv2.Canny(gray, 30, 200)\n",
    "cv2.imshow('canny edges', edged)\n",
    "cv2.waitKey(1000)\n",
    "\n",
    "contours, hierarcy =cv2.findContours(edged, cv2.RETR_EXTERNAL, cv2.CHAIN_APPROX_NONE)\n",
    "cv2.imshow('canny edges after contouring', edged)\n",
    "cv2.waitKey(1000)\n",
    "\n",
    "print('no. of contours found=' +str(len(contours)))\n",
    "\n",
    "cv2.drawContours(imag, contours, -1, (0, 255,0), 3)\n",
    "cv2.imshow('contours', imag)\n",
    "cv2.waitKey(1000)\n",
    "\n"
   ]
  },
  {
   "cell_type": "markdown",
   "id": "fe317e65",
   "metadata": {},
   "source": [
    "# LINE DETECTION"
   ]
  },
  {
   "cell_type": "code",
   "execution_count": 35,
   "id": "6ae97229",
   "metadata": {},
   "outputs": [
    {
     "ename": "TypeError",
     "evalue": "'NoneType' object is not subscriptable",
     "output_type": "error",
     "traceback": [
      "\u001b[1;31m---------------------------------------------------------------------------\u001b[0m",
      "\u001b[1;31mTypeError\u001b[0m                                 Traceback (most recent call last)",
      "\u001b[1;32m<ipython-input-35-721e061f01bb>\u001b[0m in \u001b[0;36m<module>\u001b[1;34m\u001b[0m\n\u001b[0;32m      6\u001b[0m \u001b[0mlines\u001b[0m\u001b[1;33m=\u001b[0m \u001b[0mcv2\u001b[0m\u001b[1;33m.\u001b[0m\u001b[0mHoughLines\u001b[0m\u001b[1;33m(\u001b[0m\u001b[0medges\u001b[0m\u001b[1;33m,\u001b[0m \u001b[1;36m1\u001b[0m\u001b[1;33m,\u001b[0m \u001b[0mnp\u001b[0m\u001b[1;33m.\u001b[0m\u001b[0mpi\u001b[0m\u001b[1;33m/\u001b[0m\u001b[1;36m180\u001b[0m\u001b[1;33m,\u001b[0m \u001b[1;36m200\u001b[0m\u001b[1;33m)\u001b[0m\u001b[1;33m\u001b[0m\u001b[1;33m\u001b[0m\u001b[0m\n\u001b[0;32m      7\u001b[0m \u001b[1;33m\u001b[0m\u001b[0m\n\u001b[1;32m----> 8\u001b[1;33m \u001b[1;32mfor\u001b[0m \u001b[0mr\u001b[0m\u001b[1;33m,\u001b[0m\u001b[0mtheta\u001b[0m \u001b[1;32min\u001b[0m \u001b[0mlines\u001b[0m\u001b[1;33m[\u001b[0m\u001b[1;36m0\u001b[0m\u001b[1;33m]\u001b[0m\u001b[1;33m:\u001b[0m\u001b[1;33m\u001b[0m\u001b[1;33m\u001b[0m\u001b[0m\n\u001b[0m\u001b[0;32m      9\u001b[0m     \u001b[0ma\u001b[0m\u001b[1;33m=\u001b[0m \u001b[0mnp\u001b[0m\u001b[1;33m.\u001b[0m\u001b[0mcos\u001b[0m\u001b[1;33m(\u001b[0m\u001b[0mtheta\u001b[0m\u001b[1;33m)\u001b[0m\u001b[1;33m\u001b[0m\u001b[1;33m\u001b[0m\u001b[0m\n\u001b[0;32m     10\u001b[0m     \u001b[0mb\u001b[0m\u001b[1;33m=\u001b[0m \u001b[0mnp\u001b[0m\u001b[1;33m.\u001b[0m\u001b[0msin\u001b[0m\u001b[1;33m(\u001b[0m\u001b[0mtheta\u001b[0m\u001b[1;33m)\u001b[0m\u001b[1;33m\u001b[0m\u001b[1;33m\u001b[0m\u001b[0m\n",
      "\u001b[1;31mTypeError\u001b[0m: 'NoneType' object is not subscriptable"
     ]
    }
   ],
   "source": [
    "sud=cv2.imread(r'C:\\Users\\adith\\OneDrive\\Pictures\\Saved Pictures\\sudoku.jfif')\n",
    "\n",
    "gray= cv2.cvtColor(sud, cv2.COLOR_BGR2GRAY)\n",
    "edges= cv2.Canny(gray, 50,170 , apertureSize=3)\n",
    "\n",
    "lines= cv2.HoughLines(edges, 1, np.pi/180, 200)\n",
    "\n",
    "for r,theta in lines[0]:\n",
    "    a= np.cos(theta)\n",
    "    b= np.sin(theta)\n",
    "    x0= a*r\n",
    "    y0= b*r\n",
    "    x1= int(x0+1000*(-b))\n",
    "    y1= int(y0+1000*(a))\n",
    "    x2= int(x0-1000*(-b))\n",
    "    y2= int(y0-1000*(a))\n",
    "    cv2.line(sud, (x1,y1), (x2,y2), (225, 0, 0), 2)\n",
    "\n",
    "cv2.imshow('Houglas lines', sud)\n",
    "cv2.waitKey(1000)"
   ]
  },
  {
   "cell_type": "code",
   "execution_count": null,
   "id": "4bb63e70",
   "metadata": {},
   "outputs": [],
   "source": []
  },
  {
   "cell_type": "code",
   "execution_count": null,
   "id": "b49ca3f1",
   "metadata": {},
   "outputs": [],
   "source": []
  },
  {
   "cell_type": "code",
   "execution_count": null,
   "id": "99aea1e6",
   "metadata": {},
   "outputs": [],
   "source": []
  },
  {
   "cell_type": "code",
   "execution_count": null,
   "id": "d6761d14",
   "metadata": {},
   "outputs": [],
   "source": []
  },
  {
   "cell_type": "code",
   "execution_count": null,
   "id": "087ca83b",
   "metadata": {},
   "outputs": [],
   "source": []
  }
 ],
 "metadata": {
  "kernelspec": {
   "display_name": "simplekernel",
   "language": "python",
   "name": "simplekernel"
  },
  "language_info": {
   "codemirror_mode": {
    "name": "ipython",
    "version": 3
   },
   "file_extension": ".py",
   "mimetype": "text/x-python",
   "name": "python",
   "nbconvert_exporter": "python",
   "pygments_lexer": "ipython3",
   "version": "3.6.13"
  }
 },
 "nbformat": 4,
 "nbformat_minor": 5
}
