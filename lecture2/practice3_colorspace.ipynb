{
 "cells": [
  {
   "cell_type": "code",
   "execution_count": 2,
   "metadata": {},
   "outputs": [],
   "source": [
    "import cv2\n",
    "image=cv2.imread('./images/input.jpg')\n",
    "cv2.imshow(\"bgrcolorimg\",image)\n",
    "cv2.waitKey()\n",
    "cv2.destroyAllWindows()"
   ]
  },
  {
   "cell_type": "code",
   "execution_count": 3,
   "metadata": {},
   "outputs": [
    {
     "name": "stdout",
     "output_type": "stream",
     "text": [
      "12 17 32\n"
     ]
    }
   ],
   "source": [
    "#here the image coordinates represent the x-y coordinate or pixel value\n",
    "#and b,g,r is the mixture of the the color at the specified coordinate\n",
    "b,g,r=image[10,20]\n",
    "print(b,g,r)"
   ]
  },
  {
   "cell_type": "code",
   "execution_count": 4,
   "metadata": {},
   "outputs": [
    {
     "name": "stdout",
     "output_type": "stream",
     "text": [
      "(415, 622)\n"
     ]
    }
   ],
   "source": [
    "#now after converting to grayscale\n",
    "image=cv2.imread('./images/input.jpg',0)\n",
    "cv2.imshow(\"gray_img\",image)\n",
    "cv2.waitKey()\n",
    "cv2.destroyAllWindows()\n",
    "print(image.shape)"
   ]
  },
  {
   "cell_type": "code",
   "execution_count": 5,
   "metadata": {},
   "outputs": [
    {
     "name": "stdout",
     "output_type": "stream",
     "text": [
      "21\n"
     ]
    }
   ],
   "source": [
    "#now, as the shape is having only 2 coodinates,so the color will be of\n",
    "#1 value having the specific range in grayscale\n",
    "colorval=image[10,20]\n",
    "print(colorval)"
   ]
  },
  {
   "cell_type": "code",
   "execution_count": 16,
   "metadata": {},
   "outputs": [],
   "source": [
    "#now trying out hsv color values\n",
    "#HSV->basically used for filtering\n",
    "img=cv2.imread('./images/input.jpg')\n",
    "hsvimg=cv2.cvtColor(img,cv2.COLOR_BGR2HSV)\n",
    "cv2.imshow(\"hsvimg\",hsvimg)\n",
    "cv2.imshow(\"hue value\", hsvimg[:,:,0])\n",
    "cv2.imshow(\"saturation value\", hsvimg[:,:,1])\n",
    "cv2.imshow(\"value value\", hsvimg[:,:,2])\n",
    "\n",
    "cv2.waitKey()\n",
    "cv2.destroyAllWindows()"
   ]
  },
  {
   "cell_type": "code",
   "execution_count": 32,
   "metadata": {},
   "outputs": [],
   "source": [
    "#Now separating all the colors of BGR\n",
    "#but here, we will get the graysclae images only\n",
    "#Reason: in gray scale image, the value of the color at any index is \n",
    "#given by only one value. But we know that\n",
    "#, in a RGB or BGR image, there are 3 channels... thats why, here we \n",
    "#get the Grayscale image\n",
    "img=cv2.imread('./images/input.jpg')\n",
    "B,G,R=cv2.split(img)\n",
    "cv2.imshow(\"blue saturation\", B)\n",
    "cv2.imshow(\"green saturation\", G)\n",
    "cv2.imshow(\"red saturation\", R)\n",
    "cv2.waitKey()\n",
    "cv2.destroyAllWindows()"
   ]
  },
  {
   "cell_type": "code",
   "execution_count": 33,
   "metadata": {},
   "outputs": [],
   "source": [
    "merged=cv2.merge([B,G,R])\n",
    "cv2.imshow(\"merged\", merged)\n",
    "merged=cv2.merge([B+100,G+50,R])\n",
    "cv2.imshow(\"merged\", merged)\n",
    "cv2.waitKey()\n",
    "cv2.destroyAllWindows()"
   ]
  },
  {
   "cell_type": "code",
   "execution_count": 35,
   "metadata": {},
   "outputs": [],
   "source": [
    "#now to actually look at the individual images in B,G,R\n",
    "import numpy as np\n",
    "img=cv2.imread('./images/input.jpg')\n",
    "zeros=np.zeros(img.shape[:2],dtype=\"uint8\") #here we r creating the [0,1]\n",
    "#in matrix form, height and width values of zeros\n",
    "B,G,R=cv2.split(img)\n",
    "\n",
    "#here I have filtered out the channels or R,G,B\n",
    "cv2.imshow(\"red img\",cv2.merge([zeros,zeros,R]))\n",
    "cv2.imshow(\"green img\",cv2.merge([zeros,G,zeros]))\n",
    "cv2.imshow(\"blue img\",cv2.merge([B,zeros,zeros]))\n",
    "cv2.waitKey()\n",
    "cv2.destroyAllWindows()"
   ]
  },
  {
   "cell_type": "code",
   "execution_count": 37,
   "metadata": {},
   "outputs": [
    {
     "data": {
      "text/plain": [
       "(415, 622)"
      ]
     },
     "execution_count": 37,
     "metadata": {},
     "output_type": "execute_result"
    }
   ],
   "source": [
    "img.shape[:2]"
   ]
  },
  {
   "cell_type": "code",
   "execution_count": null,
   "metadata": {},
   "outputs": [],
   "source": []
  }
 ],
 "metadata": {
  "kernelspec": {
   "display_name": "Python 3",
   "language": "python",
   "name": "python3"
  },
  "language_info": {
   "codemirror_mode": {
    "name": "ipython",
    "version": 3
   },
   "file_extension": ".py",
   "mimetype": "text/x-python",
   "name": "python",
   "nbconvert_exporter": "python",
   "pygments_lexer": "ipython3",
   "version": "3.5.2"
  }
 },
 "nbformat": 4,
 "nbformat_minor": 2
}
