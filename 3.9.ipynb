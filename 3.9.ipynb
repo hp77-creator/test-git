{
 "cells": [
  {
   "cell_type": "code",
   "execution_count": 1,
   "id": "182b3322",
   "metadata": {},
   "outputs": [],
   "source": [
    "import cv2\n",
    "import numpy as np"
   ]
  },
  {
   "cell_type": "code",
   "execution_count": 2,
   "id": "8f30cbb7",
   "metadata": {},
   "outputs": [],
   "source": [
    "image = cv2.imread('./pictures/pic.png')"
   ]
  },
  {
   "cell_type": "code",
   "execution_count": 3,
   "id": "9aa50c23",
   "metadata": {},
   "outputs": [],
   "source": [
    "blur = cv2.blur(image,(3,3))\n",
    "cv2.imshow('averaging',blur)\n",
    "cv2.waitKey(0)\n",
    "\n",
    "gaussian = cv2.GaussianBlur(image,(7,7),0)\n",
    "cv2.imshow('gaussian blurring',gaussian)\n",
    "cv2.waitKey(0)\n",
    "\n",
    "median = cv2.medianBlur(image,5)\n",
    "cv2.imshow('Median Blurring',median)\n",
    "cv2.waitKey(0)\n",
    "\n",
    "bilateral = cv2.bilateralFilter(image,9,75,75)\n",
    "cv2.imshow('nilateral blurring',bilateral)\n",
    "cv2.waitKey(0)\n",
    "cv2.destroyAllWindows()"
   ]
  },
  {
   "cell_type": "code",
   "execution_count": 4,
   "id": "47952523",
   "metadata": {},
   "outputs": [],
   "source": [
    "dst = cv2.fastNlMeansDenoisingColored(image,None,6,6,7,21)\n",
    "cv2.imshow('Fast Means Denoising',dst)\n",
    "\n",
    "cv2.waitKey(0)\n",
    "cv2.destroyAllWindows()"
   ]
  },
  {
   "cell_type": "code",
   "execution_count": 6,
   "id": "96ab0def",
   "metadata": {},
   "outputs": [],
   "source": [
    "cv2.imshow('original',image)\n",
    "\n",
    "kernel_sharpening = np.array([[-1,-1,-1],\n",
    "                             [-1,9,-1],\n",
    "                             [-1,-1,-1]])\n",
    "\n",
    "sharpened = cv2.filter2D(image,-1,kernel_sharpening)\n",
    "\n",
    "cv2.imshow('image sharpening', sharpened)\n",
    "\n",
    "cv2.waitKey(0)\n",
    "cv2.destroyAllWindows()"
   ]
  }
 ],
 "metadata": {
  "kernelspec": {
   "display_name": "Python 3",
   "language": "python",
   "name": "python3"
  },
  "language_info": {
   "codemirror_mode": {
    "name": "ipython",
    "version": 3
   },
   "file_extension": ".py",
   "mimetype": "text/x-python",
   "name": "python",
   "nbconvert_exporter": "python",
   "pygments_lexer": "ipython3",
   "version": "3.8.8"
  }
 },
 "nbformat": 4,
 "nbformat_minor": 5
}
