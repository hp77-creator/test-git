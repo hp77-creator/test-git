{
 "cells": [
  {
   "cell_type": "code",
   "execution_count": 2,
   "metadata": {},
   "outputs": [],
   "source": [
    "import cv2\n",
    "import numpy as np\n",
    "img=cv2.imread('./images/input.jpg')\n",
    "img1=cv2.resize(img,None,fx=0.75,fy=0.75)\n",
    "cv2.imshow('Linear interpolation',img1)\n",
    "cv2.waitKey()\n",
    "\n",
    "img2=cv2.resize(img,None,fx=2,fy=2,interpolation=cv2.INTER_CUBIC)\n",
    "cv2.imshow('Cubic interpolation',img2)\n",
    "cv2.waitKey()\n",
    "\n",
    "#Now instead of None, we will resize it according to the dimensions\n",
    "img2=cv2.resize(img,(900,400),fx=2,fy=2,interpolation=cv2.INTER_AREA)\n",
    "cv2.imshow('Skew interpolation',img2)\n",
    "cv2.waitKey()\n",
    "\n",
    "cv2.destroyAllWindows()"
   ]
  },
  {
   "cell_type": "code",
   "execution_count": null,
   "metadata": {},
   "outputs": [],
   "source": []
  }
 ],
 "metadata": {
  "kernelspec": {
   "display_name": "Python 3",
   "language": "python",
   "name": "python3"
  },
  "language_info": {
   "codemirror_mode": {
    "name": "ipython",
    "version": 3
   },
   "file_extension": ".py",
   "mimetype": "text/x-python",
   "name": "python",
   "nbconvert_exporter": "python",
   "pygments_lexer": "ipython3",
   "version": "3.5.2"
  }
 },
 "nbformat": 4,
 "nbformat_minor": 2
}
