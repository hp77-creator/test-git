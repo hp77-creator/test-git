{
 "cells": [
  {
   "cell_type": "code",
   "execution_count": 11,
   "metadata": {},
   "outputs": [],
   "source": [
    "import cv2\n",
    "import numpy as np\n",
    "image=cv2.imread('./images/input.jpg')\n",
    "height,width=image.shape[:2]\n",
    "rot_matrix=cv2.getRotationMatrix2D((width/2,height/2),45,.6)\n",
    "rot_img=cv2.warpAffine(image,rot_matrix,(width,height))\n",
    "cv2.imshow(\"rotated img\",rot_img)\n",
    "cv2.waitKey()\n",
    "cv2.destroyAllWindows()"
   ]
  },
  {
   "cell_type": "code",
   "execution_count": 14,
   "metadata": {},
   "outputs": [],
   "source": [
    "#using transpose to remove black background, and rotation by 90 degree\n",
    "image=cv2.imread('./images/input.jpg')\n",
    "rot_img=cv2.transpose(image)\n",
    "cv2.imshow(\"rotated img\",rot_img)\n",
    "cv2.waitKey()\n",
    "cv2.destroyAllWindows()"
   ]
  },
  {
   "cell_type": "code",
   "execution_count": null,
   "metadata": {},
   "outputs": [],
   "source": []
  }
 ],
 "metadata": {
  "kernelspec": {
   "display_name": "Python 3",
   "language": "python",
   "name": "python3"
  },
  "language_info": {
   "codemirror_mode": {
    "name": "ipython",
    "version": 3
   },
   "file_extension": ".py",
   "mimetype": "text/x-python",
   "name": "python",
   "nbconvert_exporter": "python",
   "pygments_lexer": "ipython3",
   "version": "3.5.2"
  }
 },
 "nbformat": 4,
 "nbformat_minor": 2
}
