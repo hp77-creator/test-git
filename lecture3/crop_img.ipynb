{
 "cells": [
  {
   "cell_type": "code",
   "execution_count": 4,
   "metadata": {},
   "outputs": [],
   "source": [
    "import cv2\n",
    "import numpy as np\n",
    "img=cv2.imread('./images/input.jpg')\n",
    "h,w=img.shape[:2]\n",
    "\n",
    "#as slicing indices needs to be integer\n",
    "st_row,st_col=int(h*.15),int(w*0.15)\n",
    "end_row,end_col=int(h*0.75),int(w*0.75)\n",
    "cropimg=img[st_row:end_row,st_col:end_col]\n",
    "cv2.imshow(\"croppedimg\",cropimg)\n",
    "cv2.waitKey()\n",
    "cv2.destroyAllWindows()"
   ]
  },
  {
   "cell_type": "code",
   "execution_count": null,
   "metadata": {},
   "outputs": [],
   "source": []
  }
 ],
 "metadata": {
  "kernelspec": {
   "display_name": "Python 3",
   "language": "python",
   "name": "python3"
  },
  "language_info": {
   "codemirror_mode": {
    "name": "ipython",
    "version": 3
   },
   "file_extension": ".py",
   "mimetype": "text/x-python",
   "name": "python",
   "nbconvert_exporter": "python",
   "pygments_lexer": "ipython3",
   "version": "3.5.2"
  }
 },
 "nbformat": 4,
 "nbformat_minor": 2
}
