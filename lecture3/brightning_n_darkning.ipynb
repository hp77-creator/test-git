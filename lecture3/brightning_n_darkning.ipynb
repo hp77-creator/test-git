{
 "cells": [
  {
   "cell_type": "code",
   "execution_count": 3,
   "metadata": {},
   "outputs": [],
   "source": [
    "import cv2\n",
    "import numpy as np\n",
    "img=cv2.imread('./images/input.jpg')\n",
    "M=np.ones(img.shape,dtype=\"uint8\")*75\n",
    "addmat=cv2.add(img,M)\n",
    "cv2.imshow(\"added\",addmat)\n",
    "cv2.waitKey()\n",
    "\n",
    "submat=cv2.subtract(img,M)\n",
    "cv2.imshow(\"added\",submat)\n",
    "cv2.waitKey()\n",
    "cv2.destroyAllWindows()"
   ]
  },
  {
   "cell_type": "code",
   "execution_count": null,
   "metadata": {},
   "outputs": [],
   "source": []
  }
 ],
 "metadata": {
  "kernelspec": {
   "display_name": "Python 3",
   "language": "python",
   "name": "python3"
  },
  "language_info": {
   "codemirror_mode": {
    "name": "ipython",
    "version": 3
   },
   "file_extension": ".py",
   "mimetype": "text/x-python",
   "name": "python",
   "nbconvert_exporter": "python",
   "pygments_lexer": "ipython3",
   "version": "3.5.2"
  }
 },
 "nbformat": 4,
 "nbformat_minor": 2
}
