{
 "cells": [
  {
   "cell_type": "code",
   "execution_count": 1,
   "id": "c54abf55",
   "metadata": {},
   "outputs": [],
   "source": [
    "import cv2\n",
    "\n",
    "img = cv2.imread(r'C:\\Users\\allen\\Desktop\\OpenCv\\8.png')\n",
    "  \n",
    "gray = cv2.cvtColor(img, cv2.COLOR_BGR2GRAY)\n",
    "ret, thresh = cv2.threshold(gray,127,255,1)\n",
    "\n",
    "contours, hierarchy = cv2.findContours(thresh.copy(), cv2.RETR_LIST, cv2.CHAIN_APPROX_NONE)"
   ]
  },
  {
   "cell_type": "code",
   "execution_count": 2,
   "id": "e540fe69",
   "metadata": {},
   "outputs": [],
   "source": [
    "\n",
    "for cnt in contours:\n",
    "  \n",
    "    approx = cv2.approxPolyDP(cnt, 0.01 * cv2.arcLength(cnt, True), True)\n",
    "      \n",
    "    cv2.drawContours(img, [cnt], -1, (0, 255, 255), 5)\n",
    "  \n",
    "    M = cv2.moments(cnt)\n",
    "    if M['m00'] != 0.0:\n",
    "        x = int(M['m10']/M['m00'])\n",
    "        y = int(M['m01']/M['m00'])\n",
    "        \n",
    "        \n",
    "    if len(approx) == 3:\n",
    "        cv2.putText(img, 'No.1 Triangle=3', (x, y),cv2.FONT_HERSHEY_SIMPLEX, 0.6, (255, 255, 255), 1)\n",
    "  \n",
    "    elif len(approx) == 4:\n",
    "        cv2.putText(img, 'No.2 Quadrilateral=4', (x, y),cv2.FONT_HERSHEY_SIMPLEX, 0.6, (255, 255, 255), 1)\n",
    "  \n",
    "    elif len(approx) == 5:\n",
    "        cv2.putText(img, 'No.3 Pentagon=5', (x, y),cv2.FONT_HERSHEY_SIMPLEX, 0.6, (255, 255, 255), 1)\n",
    "  \n",
    "    elif len(approx) == 6:\n",
    "        cv2.putText(img, 'No.4 Hexagon=6', (x, y),cv2.FONT_HERSHEY_SIMPLEX, 0.6, (255, 255, 255), 1)\n",
    "  \n",
    "    else:\n",
    "        cv2.putText(img, 'No.5 circle=0', (x, y),cv2.FONT_HERSHEY_SIMPLEX, 0.6, (255, 255, 255), 1)\n"
   ]
  },
  {
   "cell_type": "code",
   "execution_count": 4,
   "id": "551550b5",
   "metadata": {},
   "outputs": [],
   "source": [
    "cv2.imshow('shapes', img)\n",
    "cv2.waitKey(0)\n",
    "cv2.destroyAllWindows()"
   ]
  },
  {
   "cell_type": "code",
   "execution_count": null,
   "id": "11b6b36d",
   "metadata": {},
   "outputs": [],
   "source": []
  }
 ],
 "metadata": {
  "kernelspec": {
   "display_name": "var1k",
   "language": "python",
   "name": "var1k"
  },
  "language_info": {
   "codemirror_mode": {
    "name": "ipython",
    "version": 3
   },
   "file_extension": ".py",
   "mimetype": "text/x-python",
   "name": "python",
   "nbconvert_exporter": "python",
   "pygments_lexer": "ipython3",
   "version": "3.6.13"
  }
 },
 "nbformat": 4,
 "nbformat_minor": 5
}
