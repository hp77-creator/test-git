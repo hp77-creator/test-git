{
 "cells": [
  {
   "cell_type": "code",
   "execution_count": 19,
   "id": "d0976f8e",
   "metadata": {},
   "outputs": [],
   "source": [
    "import cv2\n",
    "import numpy as np\n"
   ]
  },
  {
   "cell_type": "markdown",
   "id": "ac07f743",
   "metadata": {},
   "source": [
    "Importing image"
   ]
  },
  {
   "cell_type": "code",
   "execution_count": 20,
   "id": "f3e7bdda",
   "metadata": {},
   "outputs": [],
   "source": [
    "image = cv2.imread('Untitled.jpg')\n",
    "cv2.imshow('shapes', image)\n"
   ]
  },
  {
   "cell_type": "markdown",
   "id": "fd7cad1a",
   "metadata": {},
   "source": [
    "Convert to grayscale"
   ]
  },
  {
   "cell_type": "code",
   "execution_count": 21,
   "id": "e1d1bcf2",
   "metadata": {},
   "outputs": [],
   "source": [
    " \n",
    "gray = cv2.cvtColor(image, cv2.COLOR_BGR2GRAY)\n",
    "cv2.imshow('shapes', gray)\n",
    " \n"
   ]
  },
  {
   "cell_type": "markdown",
   "id": "e4dbe56e",
   "metadata": {},
   "source": [
    "Setting threshold value"
   ]
  },
  {
   "cell_type": "code",
   "execution_count": 22,
   "id": "e0537756",
   "metadata": {},
   "outputs": [],
   "source": [
    "ret, thresh = cv2.threshold(gray, 127, 255, cv2.THRESH_BINARY)"
   ]
  },
  {
   "cell_type": "markdown",
   "id": "ddb3dadf",
   "metadata": {},
   "source": [
    "Finding contours"
   ]
  },
  {
   "cell_type": "code",
   "execution_count": 23,
   "id": "ea379e17",
   "metadata": {},
   "outputs": [
    {
     "data": {
      "text/plain": [
       "54"
      ]
     },
     "execution_count": 23,
     "metadata": {},
     "output_type": "execute_result"
    }
   ],
   "source": [
    "contours, heirarchy = cv2.findContours(thresh.copy(), cv2.RETR_LIST, cv2.CHAIN_APPROX_SIMPLE)\n",
    "len(contours)"
   ]
  },
  {
   "cell_type": "markdown",
   "id": "9fa0d140",
   "metadata": {},
   "source": [
    "Creating empty list to store length of contours"
   ]
  },
  {
   "cell_type": "code",
   "execution_count": 24,
   "id": "13599176",
   "metadata": {},
   "outputs": [],
   "source": [
    "cnt_list = []\n",
    "len(cnt_list)\n",
    "i = 0"
   ]
  },
  {
   "cell_type": "markdown",
   "id": "af49a6af",
   "metadata": {},
   "source": [
    "Drawing and naming contours"
   ]
  },
  {
   "cell_type": "code",
   "execution_count": 28,
   "id": "3198b10c",
   "metadata": {},
   "outputs": [
    {
     "name": "stdout",
     "output_type": "stream",
     "text": [
      "107\n"
     ]
    }
   ],
   "source": [
    "for cnt in contours:\n",
    "    if i == 0:\n",
    "        i = 1\n",
    "        continue\n",
    "    approx = cv2.approxPolyDP(cnt, 0.01*cv2.arcLength(cnt, True), True)\n",
    "    i = len(approx)\n",
    "    cnt_list.append(i)\n",
    "    if len(approx) == 3:\n",
    "        shape_name = \"Triangle 3\"\n",
    "        cv2.drawContours(image, [cnt], 0, (0, 255, 0), -1)\n",
    "\n",
    "        #placing text at centre\n",
    "        M = cv2.moments(cnt)\n",
    "        cx = int(M['m10'] / M['m00'])\n",
    "        cy = int(M['m01'] / M['m00'])\n",
    "        cv2.putText(image, shape_name, (cx-50, cy), cv2.FONT_HERSHEY_SIMPLEX, 1, (0,0,0), 1)\n",
    "    \n",
    "    elif len(approx) == 5:\n",
    "        shape_name = \"Pentagon 5\"\n",
    "        cv2.drawContours(image, [cnt], 0, (0,255,0), -1)\n",
    "        #placing text at centre\n",
    "        M = cv2.moments(cnt)\n",
    "        cx = int(M['m10'] / M['m00'])\n",
    "        cy = int(M['m01'] / M['m00'])\n",
    "        cv2.putText(image, shape_name, (cx-50, cy), cv2.FONT_HERSHEY_SIMPLEX, 1, (0,0,0), 1)\n",
    "        \n",
    "    elif len(approx) == 6:\n",
    "        shape_name = \"Hexagon 6\"\n",
    "        cv2.drawContours(image, [cnt], 0, (0,255,0), -1)\n",
    "        #placing text at centre\n",
    "        M = cv2.moments(cnt)\n",
    "        cx = int(M['m10'] / M['m00'])\n",
    "        cy = int(M['m01'] / M['m00'])\n",
    "        cv2.putText(image, shape_name, (cx-50, cy), cv2.FONT_HERSHEY_SIMPLEX, 1, (0,0,0), 1)\n",
    "        \n",
    "    elif len(approx) == 8:\n",
    "        shape_name = \"Octagon 8\"\n",
    "        cv2.drawContours(image, [cnt], 0, (0,255,0), -1)\n",
    "        #placing text at centre\n",
    "        M = cv2.moments(cnt)\n",
    "        cx = int(M['m10'] / M['m00'])\n",
    "        cy = int(M['m01'] / M['m00'])\n",
    "        cv2.putText(image, shape_name, (cx-50, cy), cv2.FONT_HERSHEY_SIMPLEX, 1, (0,0,0), 1)    \n",
    "    \n",
    "    elif len(approx) == 12:\n",
    "        shape_name = \"Star 12\"\n",
    "        cv2.drawContours(image, [cnt], 0, (0,255,0), -1)\n",
    "        #placing text at centre\n",
    "        M = cv2.moments(cnt)\n",
    "        cx = int(M['m10'] / M['m00'])\n",
    "        cy = int(M['m01'] / M['m00'])\n",
    "        cv2.putText(image, shape_name, (cx-50, cy), cv2.FONT_HERSHEY_SIMPLEX, 1, (0,0,0), 1)\n",
    "        \n",
    "    elif len(approx) == 4:\n",
    "        x, y, w, h = cv2.boundingRect(approx)\n",
    "        aspectRatio = float(w)/h\n",
    "        if aspectRatio >= 0.5 and aspectRatio <= 1.5:\n",
    "            shape_name = \"Square 4\"\n",
    "            cv2.drawContours(image, [cnt], 0, (0,255,0), -1)\n",
    "            #placing text at centre\n",
    "            M = cv2.moments(cnt)\n",
    "            cx = int(M['m10'] / M['m00'])\n",
    "            cy = int(M['m01'] / M['m00'])\n",
    "            cv2.putText(image, shape_name, (cx-50, cy), cv2.FONT_HERSHEY_SIMPLEX, 1, (0,0,0), 1)\n",
    "        else:\n",
    "            shape_name = \"Rectangle 4\"\n",
    "            #cv2.drawContours(image, [cnt], 0, (0,255,0), -1)\n",
    "            #placing text at centre\n",
    "            M = cv2.moments(cnt)\n",
    "            cx = int(M['m10'] / M['m00'])\n",
    "            cy = int(M['m01'] / M['m00'])\n",
    "            cv2.putText(image, shape_name, (cx-50, cy), cv2.FONT_HERSHEY_SIMPLEX, 1, (0,0,0), 1)\n",
    "            \n",
    "    elif len(approx) > 15:\n",
    "        shape_name = \"Circle\"\n",
    "        cv2.drawContours(image, [cnt], 0, (0,255,0), -1)\n",
    "        #placing text at centre\n",
    "        M = cv2.moments(cnt)\n",
    "        cx = int(M['m10'] / M['m00'])\n",
    "        cy = int(M['m01'] / M['m00'])\n",
    "        cv2.putText(image, shape_name, (cx-50, cy), cv2.FONT_HERSHEY_SIMPLEX, 1, (0,0,0), 1)\n",
    "print(len(cnt_list))            \n",
    "             "
   ]
  },
  {
   "cell_type": "code",
   "execution_count": 29,
   "id": "ac302ca3",
   "metadata": {},
   "outputs": [
    {
     "name": "stdout",
     "output_type": "stream",
     "text": [
      "107\n",
      "triangle\n",
      "triangle\n",
      "quadrilateral\n",
      "quadrilateral\n",
      "quadrilateral\n",
      "quadrilateral\n",
      "quadrilateral\n",
      "quadrilateral\n",
      "Hexagon\n",
      "Hexagon\n",
      "Hexagon\n",
      "Hexagon\n",
      "Star\n",
      "Star\n",
      "Circle\n",
      "Circle\n"
     ]
    }
   ],
   "source": [
    "cnt_list.sort()\n",
    "print(len(cnt_list))\n",
    "\n",
    "for i in cnt_list:\n",
    "    if i == 3:\n",
    "        print(\"triangle\")\n",
    "    elif i == 4:\n",
    "        print(\"quadrilateral\")\n",
    "    elif i == 5:\n",
    "        print(\"Pentagon\")\n",
    "    elif i == 6:\n",
    "        print(\"Hexagon\")\n",
    "    elif i == 8:\n",
    "        print(\"Octagon\")\n",
    "    elif i == 12:\n",
    "        print(\"Star\")\n",
    "    elif i > 15:\n",
    "        print(\"Circle\")\n",
    "     \n",
    "        \n",
    "        \n",
    "        "
   ]
  },
  {
   "cell_type": "code",
   "execution_count": null,
   "id": "39a8ef97",
   "metadata": {},
   "outputs": [],
   "source": [
    "cv2.imshow(\"image1\", image)\n",
    "cv2.waitKey(0)\n",
    "cv2.clearAllWindows()\n",
    " "
   ]
  },
  {
   "cell_type": "code",
   "execution_count": null,
   "id": "08c82cc4",
   "metadata": {},
   "outputs": [],
   "source": []
  },
  {
   "cell_type": "code",
   "execution_count": null,
   "id": "fcf76677",
   "metadata": {},
   "outputs": [],
   "source": []
  },
  {
   "cell_type": "code",
   "execution_count": null,
   "id": "c42da411",
   "metadata": {},
   "outputs": [],
   "source": []
  },
  {
   "cell_type": "code",
   "execution_count": null,
   "id": "d1b243b8",
   "metadata": {},
   "outputs": [],
   "source": []
  },
  {
   "cell_type": "code",
   "execution_count": null,
   "id": "5c141f8c",
   "metadata": {},
   "outputs": [],
   "source": []
  },
  {
   "cell_type": "code",
   "execution_count": null,
   "id": "250016e4",
   "metadata": {},
   "outputs": [],
   "source": []
  },
  {
   "cell_type": "code",
   "execution_count": null,
   "id": "51442f1f",
   "metadata": {},
   "outputs": [],
   "source": []
  },
  {
   "cell_type": "code",
   "execution_count": null,
   "id": "af02aa1d",
   "metadata": {},
   "outputs": [],
   "source": []
  }
 ],
 "metadata": {
  "kernelspec": {
   "display_name": "Python 3",
   "language": "python",
   "name": "python3"
  },
  "language_info": {
   "codemirror_mode": {
    "name": "ipython",
    "version": 3
   },
   "file_extension": ".py",
   "mimetype": "text/x-python",
   "name": "python",
   "nbconvert_exporter": "python",
   "pygments_lexer": "ipython3",
   "version": "3.8.8"
  }
 },
 "nbformat": 4,
 "nbformat_minor": 5
}
